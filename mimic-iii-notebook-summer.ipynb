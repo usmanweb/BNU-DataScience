{
 "cells": [
  {
   "cell_type": "markdown",
   "id": "fa31ae40",
   "metadata": {
    "papermill": {
     "duration": 0.010961,
     "end_time": "2024-06-30T14:46:59.384449",
     "exception": false,
     "start_time": "2024-06-30T14:46:59.373488",
     "status": "completed"
    },
    "tags": []
   },
   "source": [
    "## MIMIC-III dataset\n",
    "MIMIC-III (Medical Information Mart for Intensive Care) is a publicly available database containing deidentified health-related data for ICU patients. This database consists of 26 tables and includes information about over forty thousand patients who stayed in critical care units at the Beth Israel Deaconess Medical Center between 2001 and 2012. The data encompasses demographics, laboratory test results, procedures, medications, caregiver notes, and imaging reports.\n",
    "\n",
    "\n",
    "#### Tables Related to Patient Stays:\n",
    "- **ADMISSIONS**: Every unique hospitalization for each patient in the database (defines HADM_ID)\n",
    "- **CALLOUT**: Information regarding when a patient was cleared for ICU discharge and when the patient was actually discharged\n",
    "- **ICUSTAYS**: Every unique ICU stay in the database (defines ICUSTAY_ID)\n",
    "- **PATIENTS**: Every unique patient in the database (defines SUBJECT_ID)\n",
    "- **SERVICES**: The clinical service under which a patient is registered\n",
    "- **TRANSFERS**: Patient movement from bed to bed within the hospital, including ICU admission and discharge\n",
    "\n",
    "\n",
    "####  Tables Containing Critical Care Unit Data:\n",
    "- **CAREGIVERS**: Every caregiver who has recorded data in the database (defines CGID)\n",
    "- **CHARTEVENTS**: All charted observations for patients\n",
    "- **DATETIMEEVENTS**: All recorded observations which are dates, for example time of dialysis or insertion of lines\n",
    "- **INPUTEVENTS_CV**: Intake for patients monitored using the Philips CareVue system while in the ICU\n",
    "- **INPUTEVENTS_MV**: Intake for patients monitored using the iMDSoft Metavision system while in the ICU\n",
    "- **NOTEEVENTS**: Deidentified notes, including nursing and physician notes, ECG reports, imaging reports, and discharge summaries\n",
    "- **OUTPUTEVENTS**: Output information for patients while in the ICU\n",
    "- **PROCEDUREEVENTS_MV**: Patient procedures for the subset of patients who were monitored in the ICU using the iMDSoft MetaVision system\n",
    "\n",
    "  \n",
    "#### Tables Related to Hospital Record Systems:\n",
    "- **CPTEVENTS**: Procedures recorded as Current Procedural Terminology (CPT) codes\n",
    "- **DIAGNOSES_ICD**: Hospital assigned diagnoses, coded using the International Statistical Classification of Diseases and Related Health Problems (ICD) system\n",
    "- **DRGCODES**: Diagnosis Related Groups (DRG), which are used by the hospital for billing purposes\n",
    "- **LABEVENTS**: Laboratory measurements for patients both within the hospital and in outpatient clinics\n",
    "- **MICROBIOLOGYEVENTS**: Microbiology measurements and sensitivities from the hospital database\n",
    "- **PRESCRIPTIONS**: Medications ordered, and not necessarily administered, for a given patient\n",
    "- **PROCEDURES_ICD**: Patient procedures, coded using the International Statistical Classification of Diseases and Related Health Problems (ICD) system\n",
    "\n",
    "\n",
    "#### Dictionary Tables:\n",
    "- **D_CPT**: High-level dictionary of Current Procedural Terminology (CPT) codes\n",
    "- **D_ICD_DIAGNOSES**: Dictionary of International Statistical Classification of Diseases and Related Health Problems (ICD) codes relating to diagnoses\n",
    "- **D_ICD_PROCEDURES**: Dictionary of International Statistical Classification of Diseases and Related Health Problems (ICD) codes relating to procedures\n",
    "- **D_ITEMS**: Dictionary of ITEMIDs appearing in the MIMIC database, except those that relate to laboratory tests\n",
    "- **D_LABITEMS**: Dictionary of ITEMIDs in the laboratory database that relate to laboratory tests\n",
    "\n"
   ]
  },
  {
   "cell_type": "markdown",
   "id": "f20b7c73",
   "metadata": {
    "papermill": {
     "duration": 0.010197,
     "end_time": "2024-06-30T14:46:59.406227",
     "exception": false,
     "start_time": "2024-06-30T14:46:59.396030",
     "status": "completed"
    },
    "tags": []
   },
   "source": [
    "### Data Extraction for 10,000 Patients\n",
    "To extract data at the patient level, two datasets are created for each table based on unique identifier, SUBJECT_ID. \n",
    "\n",
    "Creating Two Datasets:\n",
    "1. First 10,000 SUBJECT_IDs: ‘TABLE_sorted.csv’\n",
    "2. Random 10,000 SUBJECT_IDs: ‘TABLE_random.csv’\n"
   ]
  },
  {
   "cell_type": "markdown",
   "id": "da224f07",
   "metadata": {
    "papermill": {
     "duration": 0.01025,
     "end_time": "2024-06-30T14:46:59.426822",
     "exception": false,
     "start_time": "2024-06-30T14:46:59.416572",
     "status": "completed"
    },
    "tags": []
   },
   "source": [
    "## Dependencies"
   ]
  },
  {
   "cell_type": "code",
   "execution_count": 1,
   "id": "cbf786fc",
   "metadata": {
    "execution": {
     "iopub.execute_input": "2024-06-30T14:46:59.448980Z",
     "iopub.status.busy": "2024-06-30T14:46:59.448603Z",
     "iopub.status.idle": "2024-06-30T14:47:00.287975Z",
     "shell.execute_reply": "2024-06-30T14:47:00.287065Z"
    },
    "papermill": {
     "duration": 0.853337,
     "end_time": "2024-06-30T14:47:00.290491",
     "exception": false,
     "start_time": "2024-06-30T14:46:59.437154",
     "status": "completed"
    },
    "tags": []
   },
   "outputs": [],
   "source": [
    "import pandas as pd\n",
    "import numpy as np\n",
    "import os\n",
    "from matplotlib import pyplot as plt\n",
    "pd.set_option('display.max_columns', 20)"
   ]
  },
  {
   "cell_type": "markdown",
   "id": "e4db6cb7",
   "metadata": {
    "papermill": {
     "duration": 0.010973,
     "end_time": "2024-06-30T14:47:00.313220",
     "exception": false,
     "start_time": "2024-06-30T14:47:00.302247",
     "status": "completed"
    },
    "tags": []
   },
   "source": [
    "## 1. Patient Stays"
   ]
  },
  {
   "cell_type": "code",
   "execution_count": 2,
   "id": "f9407c93",
   "metadata": {
    "execution": {
     "iopub.execute_input": "2024-06-30T14:47:00.336371Z",
     "iopub.status.busy": "2024-06-30T14:47:00.335430Z",
     "iopub.status.idle": "2024-06-30T14:47:00.340617Z",
     "shell.execute_reply": "2024-06-30T14:47:00.339542Z"
    },
    "papermill": {
     "duration": 0.019344,
     "end_time": "2024-06-30T14:47:00.342917",
     "exception": false,
     "start_time": "2024-06-30T14:47:00.323573",
     "status": "completed"
    },
    "tags": []
   },
   "outputs": [],
   "source": [
    "base_path = \"/kaggle/input/mimic-iii-10k/MIMIC -III (10000 patients)\""
   ]
  },
  {
   "cell_type": "code",
   "execution_count": 3,
   "id": "61ad5c06",
   "metadata": {
    "execution": {
     "iopub.execute_input": "2024-06-30T14:47:00.365843Z",
     "iopub.status.busy": "2024-06-30T14:47:00.365487Z",
     "iopub.status.idle": "2024-06-30T14:47:00.495224Z",
     "shell.execute_reply": "2024-06-30T14:47:00.494105Z"
    },
    "papermill": {
     "duration": 0.144043,
     "end_time": "2024-06-30T14:47:00.497526",
     "exception": false,
     "start_time": "2024-06-30T14:47:00.353483",
     "status": "completed"
    },
    "tags": []
   },
   "outputs": [
    {
     "data": {
      "text/html": [
       "<div>\n",
       "<style scoped>\n",
       "    .dataframe tbody tr th:only-of-type {\n",
       "        vertical-align: middle;\n",
       "    }\n",
       "\n",
       "    .dataframe tbody tr th {\n",
       "        vertical-align: top;\n",
       "    }\n",
       "\n",
       "    .dataframe thead th {\n",
       "        text-align: right;\n",
       "    }\n",
       "</style>\n",
       "<table border=\"1\" class=\"dataframe\">\n",
       "  <thead>\n",
       "    <tr style=\"text-align: right;\">\n",
       "      <th></th>\n",
       "      <th>ROW_ID</th>\n",
       "      <th>SUBJECT_ID</th>\n",
       "      <th>HADM_ID</th>\n",
       "      <th>ADMITTIME</th>\n",
       "      <th>DISCHTIME</th>\n",
       "      <th>DEATHTIME</th>\n",
       "      <th>ADMISSION_TYPE</th>\n",
       "      <th>ADMISSION_LOCATION</th>\n",
       "      <th>DISCHARGE_LOCATION</th>\n",
       "      <th>INSURANCE</th>\n",
       "      <th>LANGUAGE</th>\n",
       "      <th>RELIGION</th>\n",
       "      <th>MARITAL_STATUS</th>\n",
       "      <th>ETHNICITY</th>\n",
       "      <th>EDREGTIME</th>\n",
       "      <th>EDOUTTIME</th>\n",
       "      <th>DIAGNOSIS</th>\n",
       "      <th>HOSPITAL_EXPIRE_FLAG</th>\n",
       "      <th>HAS_CHARTEVENTS_DATA</th>\n",
       "    </tr>\n",
       "  </thead>\n",
       "  <tbody>\n",
       "    <tr>\n",
       "      <th>0</th>\n",
       "      <td>1</td>\n",
       "      <td>2</td>\n",
       "      <td>163353</td>\n",
       "      <td>2138-07-17 19:04:00</td>\n",
       "      <td>2138-07-21 15:48:00</td>\n",
       "      <td>NaN</td>\n",
       "      <td>NEWBORN</td>\n",
       "      <td>PHYS REFERRAL/NORMAL DELI</td>\n",
       "      <td>HOME</td>\n",
       "      <td>Private</td>\n",
       "      <td>NaN</td>\n",
       "      <td>NOT SPECIFIED</td>\n",
       "      <td>NaN</td>\n",
       "      <td>ASIAN</td>\n",
       "      <td>NaN</td>\n",
       "      <td>NaN</td>\n",
       "      <td>NEWBORN</td>\n",
       "      <td>0</td>\n",
       "      <td>1</td>\n",
       "    </tr>\n",
       "    <tr>\n",
       "      <th>1</th>\n",
       "      <td>2</td>\n",
       "      <td>3</td>\n",
       "      <td>145834</td>\n",
       "      <td>2101-10-20 19:08:00</td>\n",
       "      <td>2101-10-31 13:58:00</td>\n",
       "      <td>NaN</td>\n",
       "      <td>EMERGENCY</td>\n",
       "      <td>EMERGENCY ROOM ADMIT</td>\n",
       "      <td>SNF</td>\n",
       "      <td>Medicare</td>\n",
       "      <td>NaN</td>\n",
       "      <td>CATHOLIC</td>\n",
       "      <td>MARRIED</td>\n",
       "      <td>WHITE</td>\n",
       "      <td>2101-10-20 17:09:00</td>\n",
       "      <td>2101-10-20 19:24:00</td>\n",
       "      <td>HYPOTENSION</td>\n",
       "      <td>0</td>\n",
       "      <td>1</td>\n",
       "    </tr>\n",
       "    <tr>\n",
       "      <th>2</th>\n",
       "      <td>3</td>\n",
       "      <td>4</td>\n",
       "      <td>185777</td>\n",
       "      <td>2191-03-16 00:28:00</td>\n",
       "      <td>2191-03-23 18:41:00</td>\n",
       "      <td>NaN</td>\n",
       "      <td>EMERGENCY</td>\n",
       "      <td>EMERGENCY ROOM ADMIT</td>\n",
       "      <td>HOME WITH HOME IV PROVIDR</td>\n",
       "      <td>Private</td>\n",
       "      <td>NaN</td>\n",
       "      <td>PROTESTANT QUAKER</td>\n",
       "      <td>SINGLE</td>\n",
       "      <td>WHITE</td>\n",
       "      <td>2191-03-15 13:10:00</td>\n",
       "      <td>2191-03-16 01:10:00</td>\n",
       "      <td>FEVER,DEHYDRATION,FAILURE TO THRIVE</td>\n",
       "      <td>0</td>\n",
       "      <td>1</td>\n",
       "    </tr>\n",
       "    <tr>\n",
       "      <th>3</th>\n",
       "      <td>4</td>\n",
       "      <td>5</td>\n",
       "      <td>178980</td>\n",
       "      <td>2103-02-02 04:31:00</td>\n",
       "      <td>2103-02-04 12:15:00</td>\n",
       "      <td>NaN</td>\n",
       "      <td>NEWBORN</td>\n",
       "      <td>PHYS REFERRAL/NORMAL DELI</td>\n",
       "      <td>HOME</td>\n",
       "      <td>Private</td>\n",
       "      <td>NaN</td>\n",
       "      <td>BUDDHIST</td>\n",
       "      <td>NaN</td>\n",
       "      <td>ASIAN</td>\n",
       "      <td>NaN</td>\n",
       "      <td>NaN</td>\n",
       "      <td>NEWBORN</td>\n",
       "      <td>0</td>\n",
       "      <td>1</td>\n",
       "    </tr>\n",
       "    <tr>\n",
       "      <th>4</th>\n",
       "      <td>5</td>\n",
       "      <td>6</td>\n",
       "      <td>107064</td>\n",
       "      <td>2175-05-30 07:15:00</td>\n",
       "      <td>2175-06-15 16:00:00</td>\n",
       "      <td>NaN</td>\n",
       "      <td>ELECTIVE</td>\n",
       "      <td>PHYS REFERRAL/NORMAL DELI</td>\n",
       "      <td>HOME HEALTH CARE</td>\n",
       "      <td>Medicare</td>\n",
       "      <td>ENGL</td>\n",
       "      <td>NOT SPECIFIED</td>\n",
       "      <td>MARRIED</td>\n",
       "      <td>WHITE</td>\n",
       "      <td>NaN</td>\n",
       "      <td>NaN</td>\n",
       "      <td>CHRONIC RENAL FAILURE/SDA</td>\n",
       "      <td>0</td>\n",
       "      <td>1</td>\n",
       "    </tr>\n",
       "  </tbody>\n",
       "</table>\n",
       "</div>"
      ],
      "text/plain": [
       "   ROW_ID  SUBJECT_ID  HADM_ID            ADMITTIME            DISCHTIME  \\\n",
       "0       1           2   163353  2138-07-17 19:04:00  2138-07-21 15:48:00   \n",
       "1       2           3   145834  2101-10-20 19:08:00  2101-10-31 13:58:00   \n",
       "2       3           4   185777  2191-03-16 00:28:00  2191-03-23 18:41:00   \n",
       "3       4           5   178980  2103-02-02 04:31:00  2103-02-04 12:15:00   \n",
       "4       5           6   107064  2175-05-30 07:15:00  2175-06-15 16:00:00   \n",
       "\n",
       "  DEATHTIME ADMISSION_TYPE         ADMISSION_LOCATION  \\\n",
       "0       NaN        NEWBORN  PHYS REFERRAL/NORMAL DELI   \n",
       "1       NaN      EMERGENCY       EMERGENCY ROOM ADMIT   \n",
       "2       NaN      EMERGENCY       EMERGENCY ROOM ADMIT   \n",
       "3       NaN        NEWBORN  PHYS REFERRAL/NORMAL DELI   \n",
       "4       NaN       ELECTIVE  PHYS REFERRAL/NORMAL DELI   \n",
       "\n",
       "          DISCHARGE_LOCATION INSURANCE LANGUAGE           RELIGION  \\\n",
       "0                       HOME   Private      NaN      NOT SPECIFIED   \n",
       "1                        SNF  Medicare      NaN           CATHOLIC   \n",
       "2  HOME WITH HOME IV PROVIDR   Private      NaN  PROTESTANT QUAKER   \n",
       "3                       HOME   Private      NaN           BUDDHIST   \n",
       "4           HOME HEALTH CARE  Medicare     ENGL      NOT SPECIFIED   \n",
       "\n",
       "  MARITAL_STATUS ETHNICITY            EDREGTIME            EDOUTTIME  \\\n",
       "0            NaN     ASIAN                  NaN                  NaN   \n",
       "1        MARRIED     WHITE  2101-10-20 17:09:00  2101-10-20 19:24:00   \n",
       "2         SINGLE     WHITE  2191-03-15 13:10:00  2191-03-16 01:10:00   \n",
       "3            NaN     ASIAN                  NaN                  NaN   \n",
       "4        MARRIED     WHITE                  NaN                  NaN   \n",
       "\n",
       "                             DIAGNOSIS  HOSPITAL_EXPIRE_FLAG  \\\n",
       "0                              NEWBORN                     0   \n",
       "1                          HYPOTENSION                     0   \n",
       "2  FEVER,DEHYDRATION,FAILURE TO THRIVE                     0   \n",
       "3                              NEWBORN                     0   \n",
       "4            CHRONIC RENAL FAILURE/SDA                     0   \n",
       "\n",
       "   HAS_CHARTEVENTS_DATA  \n",
       "0                     1  \n",
       "1                     1  \n",
       "2                     1  \n",
       "3                     1  \n",
       "4                     1  "
      ]
     },
     "execution_count": 3,
     "metadata": {},
     "output_type": "execute_result"
    }
   ],
   "source": [
    "admissions = pd.read_csv(os.path.join(base_path, \"ADMISSIONS/ADMISSIONS_sorted.csv\"))\n",
    "admissions.head(5)"
   ]
  },
  {
   "cell_type": "code",
   "execution_count": 4,
   "id": "3b50a823",
   "metadata": {
    "execution": {
     "iopub.execute_input": "2024-06-30T14:47:00.521084Z",
     "iopub.status.busy": "2024-06-30T14:47:00.520669Z",
     "iopub.status.idle": "2024-06-30T14:47:00.552538Z",
     "shell.execute_reply": "2024-06-30T14:47:00.551387Z"
    },
    "papermill": {
     "duration": 0.046637,
     "end_time": "2024-06-30T14:47:00.555132",
     "exception": false,
     "start_time": "2024-06-30T14:47:00.508495",
     "status": "completed"
    },
    "tags": []
   },
   "outputs": [
    {
     "name": "stdout",
     "output_type": "stream",
     "text": [
      "<class 'pandas.core.frame.DataFrame'>\n",
      "RangeIndex: 12911 entries, 0 to 12910\n",
      "Data columns (total 19 columns):\n",
      " #   Column                Non-Null Count  Dtype \n",
      "---  ------                --------------  ----- \n",
      " 0   ROW_ID                12911 non-null  int64 \n",
      " 1   SUBJECT_ID            12911 non-null  int64 \n",
      " 2   HADM_ID               12911 non-null  int64 \n",
      " 3   ADMITTIME             12911 non-null  object\n",
      " 4   DISCHTIME             12911 non-null  object\n",
      " 5   DEATHTIME             1287 non-null   object\n",
      " 6   ADMISSION_TYPE        12911 non-null  object\n",
      " 7   ADMISSION_LOCATION    12911 non-null  object\n",
      " 8   DISCHARGE_LOCATION    12911 non-null  object\n",
      " 9   INSURANCE             12911 non-null  object\n",
      " 10  LANGUAGE              3445 non-null   object\n",
      " 11  RELIGION              12728 non-null  object\n",
      " 12  MARITAL_STATUS        9714 non-null   object\n",
      " 13  ETHNICITY             12911 non-null  object\n",
      " 14  EDREGTIME             5932 non-null   object\n",
      " 15  EDOUTTIME             5932 non-null   object\n",
      " 16  DIAGNOSIS             12903 non-null  object\n",
      " 17  HOSPITAL_EXPIRE_FLAG  12911 non-null  int64 \n",
      " 18  HAS_CHARTEVENTS_DATA  12911 non-null  int64 \n",
      "dtypes: int64(5), object(14)\n",
      "memory usage: 1.9+ MB\n"
     ]
    }
   ],
   "source": [
    "admissions.info()"
   ]
  },
  {
   "cell_type": "code",
   "execution_count": 5,
   "id": "ec41e346",
   "metadata": {
    "execution": {
     "iopub.execute_input": "2024-06-30T14:47:00.579577Z",
     "iopub.status.busy": "2024-06-30T14:47:00.578833Z",
     "iopub.status.idle": "2024-06-30T14:47:00.608498Z",
     "shell.execute_reply": "2024-06-30T14:47:00.607432Z"
    },
    "papermill": {
     "duration": 0.044602,
     "end_time": "2024-06-30T14:47:00.610817",
     "exception": false,
     "start_time": "2024-06-30T14:47:00.566215",
     "status": "completed"
    },
    "tags": []
   },
   "outputs": [
    {
     "data": {
      "text/html": [
       "<div>\n",
       "<style scoped>\n",
       "    .dataframe tbody tr th:only-of-type {\n",
       "        vertical-align: middle;\n",
       "    }\n",
       "\n",
       "    .dataframe tbody tr th {\n",
       "        vertical-align: top;\n",
       "    }\n",
       "\n",
       "    .dataframe thead th {\n",
       "        text-align: right;\n",
       "    }\n",
       "</style>\n",
       "<table border=\"1\" class=\"dataframe\">\n",
       "  <thead>\n",
       "    <tr style=\"text-align: right;\">\n",
       "      <th></th>\n",
       "      <th>ROW_ID</th>\n",
       "      <th>SUBJECT_ID</th>\n",
       "      <th>HADM_ID</th>\n",
       "      <th>HOSPITAL_EXPIRE_FLAG</th>\n",
       "      <th>HAS_CHARTEVENTS_DATA</th>\n",
       "    </tr>\n",
       "  </thead>\n",
       "  <tbody>\n",
       "    <tr>\n",
       "      <th>count</th>\n",
       "      <td>12911.000000</td>\n",
       "      <td>12911.000000</td>\n",
       "      <td>12911.000000</td>\n",
       "      <td>12911.000000</td>\n",
       "      <td>12911.000000</td>\n",
       "    </tr>\n",
       "    <tr>\n",
       "      <th>mean</th>\n",
       "      <td>6456.000000</td>\n",
       "      <td>5294.025482</td>\n",
       "      <td>149468.268453</td>\n",
       "      <td>0.099682</td>\n",
       "      <td>0.969096</td>\n",
       "    </tr>\n",
       "    <tr>\n",
       "      <th>std</th>\n",
       "      <td>3727.228998</td>\n",
       "      <td>3043.092031</td>\n",
       "      <td>28803.637575</td>\n",
       "      <td>0.299588</td>\n",
       "      <td>0.173064</td>\n",
       "    </tr>\n",
       "    <tr>\n",
       "      <th>min</th>\n",
       "      <td>1.000000</td>\n",
       "      <td>2.000000</td>\n",
       "      <td>100006.000000</td>\n",
       "      <td>0.000000</td>\n",
       "      <td>0.000000</td>\n",
       "    </tr>\n",
       "    <tr>\n",
       "      <th>25%</th>\n",
       "      <td>3228.500000</td>\n",
       "      <td>2664.000000</td>\n",
       "      <td>124511.500000</td>\n",
       "      <td>0.000000</td>\n",
       "      <td>1.000000</td>\n",
       "    </tr>\n",
       "    <tr>\n",
       "      <th>50%</th>\n",
       "      <td>6456.000000</td>\n",
       "      <td>5308.000000</td>\n",
       "      <td>149196.000000</td>\n",
       "      <td>0.000000</td>\n",
       "      <td>1.000000</td>\n",
       "    </tr>\n",
       "    <tr>\n",
       "      <th>75%</th>\n",
       "      <td>9683.500000</td>\n",
       "      <td>7899.500000</td>\n",
       "      <td>174239.500000</td>\n",
       "      <td>0.000000</td>\n",
       "      <td>1.000000</td>\n",
       "    </tr>\n",
       "    <tr>\n",
       "      <th>max</th>\n",
       "      <td>12911.000000</td>\n",
       "      <td>10566.000000</td>\n",
       "      <td>199986.000000</td>\n",
       "      <td>1.000000</td>\n",
       "      <td>1.000000</td>\n",
       "    </tr>\n",
       "  </tbody>\n",
       "</table>\n",
       "</div>"
      ],
      "text/plain": [
       "             ROW_ID    SUBJECT_ID        HADM_ID  HOSPITAL_EXPIRE_FLAG  \\\n",
       "count  12911.000000  12911.000000   12911.000000          12911.000000   \n",
       "mean    6456.000000   5294.025482  149468.268453              0.099682   \n",
       "std     3727.228998   3043.092031   28803.637575              0.299588   \n",
       "min        1.000000      2.000000  100006.000000              0.000000   \n",
       "25%     3228.500000   2664.000000  124511.500000              0.000000   \n",
       "50%     6456.000000   5308.000000  149196.000000              0.000000   \n",
       "75%     9683.500000   7899.500000  174239.500000              0.000000   \n",
       "max    12911.000000  10566.000000  199986.000000              1.000000   \n",
       "\n",
       "       HAS_CHARTEVENTS_DATA  \n",
       "count          12911.000000  \n",
       "mean               0.969096  \n",
       "std                0.173064  \n",
       "min                0.000000  \n",
       "25%                1.000000  \n",
       "50%                1.000000  \n",
       "75%                1.000000  \n",
       "max                1.000000  "
      ]
     },
     "execution_count": 5,
     "metadata": {},
     "output_type": "execute_result"
    }
   ],
   "source": [
    "admissions.describe()"
   ]
  },
  {
   "cell_type": "markdown",
   "id": "f9d9af99",
   "metadata": {
    "papermill": {
     "duration": 0.010912,
     "end_time": "2024-06-30T14:47:00.632833",
     "exception": false,
     "start_time": "2024-06-30T14:47:00.621921",
     "status": "completed"
    },
    "tags": []
   },
   "source": [
    "#### 1.1 What are the unique admission types?"
   ]
  },
  {
   "cell_type": "code",
   "execution_count": 6,
   "id": "3bec2c93",
   "metadata": {
    "execution": {
     "iopub.execute_input": "2024-06-30T14:47:00.656832Z",
     "iopub.status.busy": "2024-06-30T14:47:00.656495Z",
     "iopub.status.idle": "2024-06-30T14:47:00.663910Z",
     "shell.execute_reply": "2024-06-30T14:47:00.662836Z"
    },
    "papermill": {
     "duration": 0.022086,
     "end_time": "2024-06-30T14:47:00.666204",
     "exception": false,
     "start_time": "2024-06-30T14:47:00.644118",
     "status": "completed"
    },
    "tags": []
   },
   "outputs": [
    {
     "data": {
      "text/plain": [
       "array(['NEWBORN', 'EMERGENCY', 'ELECTIVE', 'URGENT'], dtype=object)"
      ]
     },
     "execution_count": 6,
     "metadata": {},
     "output_type": "execute_result"
    }
   ],
   "source": [
    "admissions.ADMISSION_TYPE.unique()"
   ]
  },
  {
   "cell_type": "markdown",
   "id": "304ca5f5",
   "metadata": {
    "papermill": {
     "duration": 0.01147,
     "end_time": "2024-06-30T14:47:00.689027",
     "exception": false,
     "start_time": "2024-06-30T14:47:00.677557",
     "status": "completed"
    },
    "tags": []
   },
   "source": [
    "#### 1.2 What is the distribution of admission types in the dataset?\n"
   ]
  },
  {
   "cell_type": "code",
   "execution_count": 7,
   "id": "f61b12fa",
   "metadata": {
    "execution": {
     "iopub.execute_input": "2024-06-30T14:47:00.713672Z",
     "iopub.status.busy": "2024-06-30T14:47:00.713299Z",
     "iopub.status.idle": "2024-06-30T14:47:01.028119Z",
     "shell.execute_reply": "2024-06-30T14:47:01.027064Z"
    },
    "papermill": {
     "duration": 0.329787,
     "end_time": "2024-06-30T14:47:01.030528",
     "exception": false,
     "start_time": "2024-06-30T14:47:00.700741",
     "status": "completed"
    },
    "tags": []
   },
   "outputs": [
    {
     "data": {
      "image/png": "[encoded data removed]",
      "text/plain": [
       "<Figure size 1000x600 with 1 Axes>"
      ]
     },
     "metadata": {},
     "output_type": "display_data"
    }
   ],
   "source": [
    "admission_type_counts = admissions['ADMISSION_TYPE'].value_counts()\n",
    "\n",
    "# Plot the counts as a bar plot\n",
    "plt.figure(figsize=(10, 6))\n",
    "admission_type_counts.plot(kind='bar', color='skyblue')\n",
    "plt.title('Distribution of Admission Types')\n",
    "plt.xlabel('Admission Type')\n",
    "plt.ylabel('Number of Admissions')\n",
    "plt.xticks(rotation=45)\n",
    "plt.grid(axis='y')\n",
    "\n",
    "# Show the plot\n",
    "plt.tight_layout()\n",
    "plt.show()"
   ]
  },
  {
   "cell_type": "markdown",
   "id": "aa48c658",
   "metadata": {
    "papermill": {
     "duration": 0.011747,
     "end_time": "2024-06-30T14:47:01.054347",
     "exception": false,
     "start_time": "2024-06-30T14:47:01.042600",
     "status": "completed"
    },
    "tags": []
   },
   "source": [
    "#### 1.3 What is the predominant discharge destination for admitted patients?"
   ]
  },
  {
   "cell_type": "code",
   "execution_count": 8,
   "id": "2cc90915",
   "metadata": {
    "execution": {
     "iopub.execute_input": "2024-06-30T14:47:01.081196Z",
     "iopub.status.busy": "2024-06-30T14:47:01.080786Z",
     "iopub.status.idle": "2024-06-30T14:47:01.088262Z",
     "shell.execute_reply": "2024-06-30T14:47:01.087249Z"
    },
    "papermill": {
     "duration": 0.024637,
     "end_time": "2024-06-30T14:47:01.090818",
     "exception": false,
     "start_time": "2024-06-30T14:47:01.066181",
     "status": "completed"
    },
    "tags": []
   },
   "outputs": [
    {
     "name": "stdout",
     "output_type": "stream",
     "text": [
      "The discharge location mostly used for admitted patients is: HOME\n"
     ]
    }
   ],
   "source": [
    "#Step 1: Count occurrences of each discharge location\n",
    "discharge_location_counts = admissions['DISCHARGE_LOCATION'].value_counts()\n",
    "\n",
    "# Step 2: Identify the discharge location with the highest count\n",
    "most_used_discharge_location = discharge_location_counts.idxmax()\n",
    "\n",
    "print(f\"The discharge location mostly used for admitted patients is: {most_used_discharge_location}\")"
   ]
  },
  {
   "cell_type": "markdown",
   "id": "88b30305",
   "metadata": {
    "papermill": {
     "duration": 0.011664,
     "end_time": "2024-06-30T14:47:01.114492",
     "exception": false,
     "start_time": "2024-06-30T14:47:01.102828",
     "status": "completed"
    },
    "tags": []
   },
   "source": [
    "#### 1.4 Following emergency, elective, or urgent admissions, what is the secondary discharge destination commonly observed?"
   ]
  },
  {
   "cell_type": "code",
   "execution_count": 9,
   "id": "27e8df93",
   "metadata": {
    "execution": {
     "iopub.execute_input": "2024-06-30T14:47:01.140629Z",
     "iopub.status.busy": "2024-06-30T14:47:01.140255Z",
     "iopub.status.idle": "2024-06-30T14:47:01.154460Z",
     "shell.execute_reply": "2024-06-30T14:47:01.153329Z"
    },
    "papermill": {
     "duration": 0.030325,
     "end_time": "2024-06-30T14:47:01.156789",
     "exception": false,
     "start_time": "2024-06-30T14:47:01.126464",
     "status": "completed"
    },
    "tags": []
   },
   "outputs": [
    {
     "name": "stdout",
     "output_type": "stream",
     "text": [
      "The second most used discharge location for admitted patients is: HOME HEALTH CARE\n"
     ]
    }
   ],
   "source": [
    "# Step 1: Filter to include only admitted patients (emergency, elective, urgent)\n",
    "admitted_patients = admissions[admissions['ADMISSION_TYPE'].isin(['EMERGENCY', 'ELECTIVE', 'URGENT'])]\n",
    "\n",
    "# Step 2: Count occurrences of each discharge location\n",
    "discharge_location_counts = admitted_patients['DISCHARGE_LOCATION'].value_counts()\n",
    "\n",
    "# Step 3: Find the second most common discharge location\n",
    "second_most_used_discharge_location = discharge_location_counts.index[1]\n",
    "\n",
    "print(f\"The second most used discharge location for admitted patients is: {second_most_used_discharge_location}\")"
   ]
  },
  {
   "cell_type": "markdown",
   "id": "35216bc5",
   "metadata": {
    "papermill": {
     "duration": 0.011778,
     "end_time": "2024-06-30T14:47:01.180708",
     "exception": false,
     "start_time": "2024-06-30T14:47:01.168930",
     "status": "completed"
    },
    "tags": []
   },
   "source": [
    "#### Let's read another table"
   ]
  },
  {
   "cell_type": "code",
   "execution_count": 10,
   "id": "115e5282",
   "metadata": {
    "execution": {
     "iopub.execute_input": "2024-06-30T14:47:01.207207Z",
     "iopub.status.busy": "2024-06-30T14:47:01.206174Z",
     "iopub.status.idle": "2024-06-30T14:47:01.276432Z",
     "shell.execute_reply": "2024-06-30T14:47:01.275345Z"
    },
    "papermill": {
     "duration": 0.085731,
     "end_time": "2024-06-30T14:47:01.278576",
     "exception": false,
     "start_time": "2024-06-30T14:47:01.192845",
     "status": "completed"
    },
    "tags": []
   },
   "outputs": [
    {
     "data": {
      "text/html": [
       "<div>\n",
       "<style scoped>\n",
       "    .dataframe tbody tr th:only-of-type {\n",
       "        vertical-align: middle;\n",
       "    }\n",
       "\n",
       "    .dataframe tbody tr th {\n",
       "        vertical-align: top;\n",
       "    }\n",
       "\n",
       "    .dataframe thead th {\n",
       "        text-align: right;\n",
       "    }\n",
       "</style>\n",
       "<table border=\"1\" class=\"dataframe\">\n",
       "  <thead>\n",
       "    <tr style=\"text-align: right;\">\n",
       "      <th></th>\n",
       "      <th>ROW_ID</th>\n",
       "      <th>SUBJECT_ID</th>\n",
       "      <th>HADM_ID</th>\n",
       "      <th>ICUSTAY_ID</th>\n",
       "      <th>DBSOURCE</th>\n",
       "      <th>FIRST_CAREUNIT</th>\n",
       "      <th>LAST_CAREUNIT</th>\n",
       "      <th>FIRST_WARDID</th>\n",
       "      <th>LAST_WARDID</th>\n",
       "      <th>INTIME</th>\n",
       "      <th>OUTTIME</th>\n",
       "      <th>LOS</th>\n",
       "    </tr>\n",
       "  </thead>\n",
       "  <tbody>\n",
       "    <tr>\n",
       "      <th>0</th>\n",
       "      <td>1</td>\n",
       "      <td>2</td>\n",
       "      <td>163353</td>\n",
       "      <td>243653</td>\n",
       "      <td>carevue</td>\n",
       "      <td>NICU</td>\n",
       "      <td>NICU</td>\n",
       "      <td>56</td>\n",
       "      <td>56</td>\n",
       "      <td>2138-07-17 21:20:07</td>\n",
       "      <td>2138-07-17 23:32:21</td>\n",
       "      <td>0.0918</td>\n",
       "    </tr>\n",
       "    <tr>\n",
       "      <th>1</th>\n",
       "      <td>2</td>\n",
       "      <td>3</td>\n",
       "      <td>145834</td>\n",
       "      <td>211552</td>\n",
       "      <td>carevue</td>\n",
       "      <td>MICU</td>\n",
       "      <td>MICU</td>\n",
       "      <td>12</td>\n",
       "      <td>12</td>\n",
       "      <td>2101-10-20 19:10:11</td>\n",
       "      <td>2101-10-26 20:43:09</td>\n",
       "      <td>6.0646</td>\n",
       "    </tr>\n",
       "    <tr>\n",
       "      <th>2</th>\n",
       "      <td>3</td>\n",
       "      <td>4</td>\n",
       "      <td>185777</td>\n",
       "      <td>294638</td>\n",
       "      <td>carevue</td>\n",
       "      <td>MICU</td>\n",
       "      <td>MICU</td>\n",
       "      <td>52</td>\n",
       "      <td>52</td>\n",
       "      <td>2191-03-16 00:29:31</td>\n",
       "      <td>2191-03-17 16:46:31</td>\n",
       "      <td>1.6785</td>\n",
       "    </tr>\n",
       "    <tr>\n",
       "      <th>3</th>\n",
       "      <td>4</td>\n",
       "      <td>5</td>\n",
       "      <td>178980</td>\n",
       "      <td>214757</td>\n",
       "      <td>carevue</td>\n",
       "      <td>NICU</td>\n",
       "      <td>NICU</td>\n",
       "      <td>56</td>\n",
       "      <td>56</td>\n",
       "      <td>2103-02-02 06:04:24</td>\n",
       "      <td>2103-02-02 08:06:00</td>\n",
       "      <td>0.0844</td>\n",
       "    </tr>\n",
       "    <tr>\n",
       "      <th>4</th>\n",
       "      <td>5</td>\n",
       "      <td>6</td>\n",
       "      <td>107064</td>\n",
       "      <td>228232</td>\n",
       "      <td>carevue</td>\n",
       "      <td>SICU</td>\n",
       "      <td>SICU</td>\n",
       "      <td>33</td>\n",
       "      <td>33</td>\n",
       "      <td>2175-05-30 21:30:54</td>\n",
       "      <td>2175-06-03 13:39:54</td>\n",
       "      <td>3.6729</td>\n",
       "    </tr>\n",
       "  </tbody>\n",
       "</table>\n",
       "</div>"
      ],
      "text/plain": [
       "   ROW_ID  SUBJECT_ID  HADM_ID  ICUSTAY_ID DBSOURCE FIRST_CAREUNIT  \\\n",
       "0       1           2   163353      243653  carevue           NICU   \n",
       "1       2           3   145834      211552  carevue           MICU   \n",
       "2       3           4   185777      294638  carevue           MICU   \n",
       "3       4           5   178980      214757  carevue           NICU   \n",
       "4       5           6   107064      228232  carevue           SICU   \n",
       "\n",
       "  LAST_CAREUNIT  FIRST_WARDID  LAST_WARDID               INTIME  \\\n",
       "0          NICU            56           56  2138-07-17 21:20:07   \n",
       "1          MICU            12           12  2101-10-20 19:10:11   \n",
       "2          MICU            52           52  2191-03-16 00:29:31   \n",
       "3          NICU            56           56  2103-02-02 06:04:24   \n",
       "4          SICU            33           33  2175-05-30 21:30:54   \n",
       "\n",
       "               OUTTIME     LOS  \n",
       "0  2138-07-17 23:32:21  0.0918  \n",
       "1  2101-10-26 20:43:09  6.0646  \n",
       "2  2191-03-17 16:46:31  1.6785  \n",
       "3  2103-02-02 08:06:00  0.0844  \n",
       "4  2175-06-03 13:39:54  3.6729  "
      ]
     },
     "execution_count": 10,
     "metadata": {},
     "output_type": "execute_result"
    }
   ],
   "source": [
    "patients = pd.read_csv(os.path.join(base_path,\"ICUSTAYS/ICUSTAYS_sorted.csv\"))\n",
    "patients.head(5)"
   ]
  },
  {
   "cell_type": "markdown",
   "id": "871e01df",
   "metadata": {
    "papermill": {
     "duration": 0.012104,
     "end_time": "2024-06-30T14:47:01.303253",
     "exception": false,
     "start_time": "2024-06-30T14:47:01.291149",
     "status": "completed"
    },
    "tags": []
   },
   "source": [
    "#### 1.5 Show me three most commonly used First Care Units for admitting patients?"
   ]
  },
  {
   "cell_type": "code",
   "execution_count": 11,
   "id": "4a35e7d2",
   "metadata": {
    "execution": {
     "iopub.execute_input": "2024-06-30T14:47:01.329527Z",
     "iopub.status.busy": "2024-06-30T14:47:01.329155Z",
     "iopub.status.idle": "2024-06-30T14:47:01.580195Z",
     "shell.execute_reply": "2024-06-30T14:47:01.579054Z"
    },
    "papermill": {
     "duration": 0.267092,
     "end_time": "2024-06-30T14:47:01.582675",
     "exception": false,
     "start_time": "2024-06-30T14:47:01.315583",
     "status": "completed"
    },
    "tags": []
   },
   "outputs": [
    {
     "data": {
      "image/png": "[encoded data removed]",
      "text/plain": [
       "<Figure size 1000x600 with 1 Axes>"
      ]
     },
     "metadata": {},
     "output_type": "display_data"
    }
   ],
   "source": [
    "\n",
    "top_3_first_careunits = patients['FIRST_CAREUNIT'].value_counts().head(3)\n",
    "\n",
    "# Plot the top 10 First-CareUnits using pandas plot\n",
    "plt.figure(figsize=(10, 6))\n",
    "top_3_first_careunits.plot(kind='bar', color='pink')\n",
    "plt.title('Top 3 First-CareUnits of Patients')\n",
    "plt.xlabel('First-CareUnit')\n",
    "plt.ylabel('Number of Patients')\n",
    "plt.xticks(rotation=45)\n",
    "\n",
    "# Show the plot\n",
    "plt.tight_layout()\n",
    "plt.show()"
   ]
  },
  {
   "cell_type": "markdown",
   "id": "713e73d0",
   "metadata": {
    "papermill": {
     "duration": 0.014923,
     "end_time": "2024-06-30T14:47:01.610520",
     "exception": false,
     "start_time": "2024-06-30T14:47:01.595597",
     "status": "completed"
    },
    "tags": []
   },
   "source": [
    "## 2. Hospital Record System"
   ]
  },
  {
   "cell_type": "markdown",
   "id": "7f34fb69",
   "metadata": {
    "papermill": {
     "duration": 0.012645,
     "end_time": "2024-06-30T14:47:01.636145",
     "exception": false,
     "start_time": "2024-06-30T14:47:01.623500",
     "status": "completed"
    },
    "tags": []
   },
   "source": [
    "#### 2.1 How many patients have abnormal Blood Glucose?"
   ]
  },
  {
   "cell_type": "markdown",
   "id": "3b139483",
   "metadata": {
    "papermill": {
     "duration": 0.012582,
     "end_time": "2024-06-30T14:47:01.720364",
     "exception": false,
     "start_time": "2024-06-30T14:47:01.707782",
     "status": "completed"
    },
    "tags": []
   },
   "source": [
    "##### 2.1.1 Read the relevant tables"
   ]
  },
  {
   "cell_type": "code",
   "execution_count": 12,
   "id": "cf7b0792",
   "metadata": {
    "execution": {
     "iopub.execute_input": "2024-06-30T14:47:01.747899Z",
     "iopub.status.busy": "2024-06-30T14:47:01.747494Z",
     "iopub.status.idle": "2024-06-30T14:47:01.769161Z",
     "shell.execute_reply": "2024-06-30T14:47:01.768066Z"
    },
    "papermill": {
     "duration": 0.038373,
     "end_time": "2024-06-30T14:47:01.771647",
     "exception": false,
     "start_time": "2024-06-30T14:47:01.733274",
     "status": "completed"
    },
    "tags": []
   },
   "outputs": [
    {
     "data": {
      "text/html": [
       "<div>\n",
       "<style scoped>\n",
       "    .dataframe tbody tr th:only-of-type {\n",
       "        vertical-align: middle;\n",
       "    }\n",
       "\n",
       "    .dataframe tbody tr th {\n",
       "        vertical-align: top;\n",
       "    }\n",
       "\n",
       "    .dataframe thead th {\n",
       "        text-align: right;\n",
       "    }\n",
       "</style>\n",
       "<table border=\"1\" class=\"dataframe\">\n",
       "  <thead>\n",
       "    <tr style=\"text-align: right;\">\n",
       "      <th></th>\n",
       "      <th>ROW_ID</th>\n",
       "      <th>ITEMID</th>\n",
       "      <th>LABEL</th>\n",
       "      <th>FLUID</th>\n",
       "      <th>CATEGORY</th>\n",
       "      <th>LOINC_CODE</th>\n",
       "    </tr>\n",
       "  </thead>\n",
       "  <tbody>\n",
       "    <tr>\n",
       "      <th>0</th>\n",
       "      <td>546</td>\n",
       "      <td>51346</td>\n",
       "      <td>Blasts</td>\n",
       "      <td>Cerebrospinal Fluid (CSF)</td>\n",
       "      <td>Hematology</td>\n",
       "      <td>26447-3</td>\n",
       "    </tr>\n",
       "    <tr>\n",
       "      <th>1</th>\n",
       "      <td>547</td>\n",
       "      <td>51347</td>\n",
       "      <td>Eosinophils</td>\n",
       "      <td>Cerebrospinal Fluid (CSF)</td>\n",
       "      <td>Hematology</td>\n",
       "      <td>26451-5</td>\n",
       "    </tr>\n",
       "    <tr>\n",
       "      <th>2</th>\n",
       "      <td>548</td>\n",
       "      <td>51348</td>\n",
       "      <td>Hematocrit, CSF</td>\n",
       "      <td>Cerebrospinal Fluid (CSF)</td>\n",
       "      <td>Hematology</td>\n",
       "      <td>30398-2</td>\n",
       "    </tr>\n",
       "    <tr>\n",
       "      <th>3</th>\n",
       "      <td>549</td>\n",
       "      <td>51349</td>\n",
       "      <td>Hypersegmented Neutrophils</td>\n",
       "      <td>Cerebrospinal Fluid (CSF)</td>\n",
       "      <td>Hematology</td>\n",
       "      <td>26506-6</td>\n",
       "    </tr>\n",
       "    <tr>\n",
       "      <th>4</th>\n",
       "      <td>550</td>\n",
       "      <td>51350</td>\n",
       "      <td>Immunophenotyping</td>\n",
       "      <td>Cerebrospinal Fluid (CSF)</td>\n",
       "      <td>Hematology</td>\n",
       "      <td>NaN</td>\n",
       "    </tr>\n",
       "  </tbody>\n",
       "</table>\n",
       "</div>"
      ],
      "text/plain": [
       "   ROW_ID  ITEMID                       LABEL                      FLUID  \\\n",
       "0     546   51346                      Blasts  Cerebrospinal Fluid (CSF)   \n",
       "1     547   51347                 Eosinophils  Cerebrospinal Fluid (CSF)   \n",
       "2     548   51348             Hematocrit, CSF  Cerebrospinal Fluid (CSF)   \n",
       "3     549   51349  Hypersegmented Neutrophils  Cerebrospinal Fluid (CSF)   \n",
       "4     550   51350           Immunophenotyping  Cerebrospinal Fluid (CSF)   \n",
       "\n",
       "     CATEGORY LOINC_CODE  \n",
       "0  Hematology    26447-3  \n",
       "1  Hematology    26451-5  \n",
       "2  Hematology    30398-2  \n",
       "3  Hematology    26506-6  \n",
       "4  Hematology        NaN  "
      ]
     },
     "execution_count": 12,
     "metadata": {},
     "output_type": "execute_result"
    }
   ],
   "source": [
    "d_labitems = pd.read_csv(os.path.join(base_path,\"D_LABITEMS/D_LABITEMS.csv\"))\n",
    "d_labitems.head(5)"
   ]
  },
  {
   "cell_type": "code",
   "execution_count": 13,
   "id": "13521d25",
   "metadata": {
    "execution": {
     "iopub.execute_input": "2024-06-30T14:47:01.800252Z",
     "iopub.status.busy": "2024-06-30T14:47:01.799853Z",
     "iopub.status.idle": "2024-06-30T14:47:12.633264Z",
     "shell.execute_reply": "2024-06-30T14:47:12.632261Z"
    },
    "papermill": {
     "duration": 10.850459,
     "end_time": "2024-06-30T14:47:12.635730",
     "exception": false,
     "start_time": "2024-06-30T14:47:01.785271",
     "status": "completed"
    },
    "tags": []
   },
   "outputs": [
    {
     "data": {
      "text/html": [
       "<div>\n",
       "<style scoped>\n",
       "    .dataframe tbody tr th:only-of-type {\n",
       "        vertical-align: middle;\n",
       "    }\n",
       "\n",
       "    .dataframe tbody tr th {\n",
       "        vertical-align: top;\n",
       "    }\n",
       "\n",
       "    .dataframe thead th {\n",
       "        text-align: right;\n",
       "    }\n",
       "</style>\n",
       "<table border=\"1\" class=\"dataframe\">\n",
       "  <thead>\n",
       "    <tr style=\"text-align: right;\">\n",
       "      <th></th>\n",
       "      <th>ROW_ID</th>\n",
       "      <th>SUBJECT_ID</th>\n",
       "      <th>HADM_ID</th>\n",
       "      <th>ITEMID</th>\n",
       "      <th>CHARTTIME</th>\n",
       "      <th>VALUE</th>\n",
       "      <th>VALUENUM</th>\n",
       "      <th>VALUEUOM</th>\n",
       "      <th>FLAG</th>\n",
       "    </tr>\n",
       "  </thead>\n",
       "  <tbody>\n",
       "    <tr>\n",
       "      <th>0</th>\n",
       "      <td>1</td>\n",
       "      <td>2</td>\n",
       "      <td>163353.0</td>\n",
       "      <td>51143</td>\n",
       "      <td>2138-07-17 20:48:00</td>\n",
       "      <td>0</td>\n",
       "      <td>0.0</td>\n",
       "      <td>%</td>\n",
       "      <td>NaN</td>\n",
       "    </tr>\n",
       "    <tr>\n",
       "      <th>1</th>\n",
       "      <td>2</td>\n",
       "      <td>2</td>\n",
       "      <td>163353.0</td>\n",
       "      <td>51144</td>\n",
       "      <td>2138-07-17 20:48:00</td>\n",
       "      <td>0</td>\n",
       "      <td>0.0</td>\n",
       "      <td>%</td>\n",
       "      <td>NaN</td>\n",
       "    </tr>\n",
       "    <tr>\n",
       "      <th>2</th>\n",
       "      <td>3</td>\n",
       "      <td>2</td>\n",
       "      <td>163353.0</td>\n",
       "      <td>51146</td>\n",
       "      <td>2138-07-17 20:48:00</td>\n",
       "      <td>0</td>\n",
       "      <td>0.0</td>\n",
       "      <td>%</td>\n",
       "      <td>NaN</td>\n",
       "    </tr>\n",
       "    <tr>\n",
       "      <th>3</th>\n",
       "      <td>4</td>\n",
       "      <td>2</td>\n",
       "      <td>163353.0</td>\n",
       "      <td>51200</td>\n",
       "      <td>2138-07-17 20:48:00</td>\n",
       "      <td>0</td>\n",
       "      <td>0.0</td>\n",
       "      <td>%</td>\n",
       "      <td>NaN</td>\n",
       "    </tr>\n",
       "    <tr>\n",
       "      <th>4</th>\n",
       "      <td>5</td>\n",
       "      <td>2</td>\n",
       "      <td>163353.0</td>\n",
       "      <td>51221</td>\n",
       "      <td>2138-07-17 20:48:00</td>\n",
       "      <td>0</td>\n",
       "      <td>0.0</td>\n",
       "      <td>%</td>\n",
       "      <td>abnormal</td>\n",
       "    </tr>\n",
       "  </tbody>\n",
       "</table>\n",
       "</div>"
      ],
      "text/plain": [
       "   ROW_ID  SUBJECT_ID   HADM_ID  ITEMID            CHARTTIME VALUE  VALUENUM  \\\n",
       "0       1           2  163353.0   51143  2138-07-17 20:48:00     0       0.0   \n",
       "1       2           2  163353.0   51144  2138-07-17 20:48:00     0       0.0   \n",
       "2       3           2  163353.0   51146  2138-07-17 20:48:00     0       0.0   \n",
       "3       4           2  163353.0   51200  2138-07-17 20:48:00     0       0.0   \n",
       "4       5           2  163353.0   51221  2138-07-17 20:48:00     0       0.0   \n",
       "\n",
       "  VALUEUOM      FLAG  \n",
       "0        %       NaN  \n",
       "1        %       NaN  \n",
       "2        %       NaN  \n",
       "3        %       NaN  \n",
       "4        %  abnormal  "
      ]
     },
     "execution_count": 13,
     "metadata": {},
     "output_type": "execute_result"
    }
   ],
   "source": [
    "labevents = pd.read_csv(os.path.join(base_path,\"LABEVENTS/LABEVENTS_random.csv\"))\n",
    "labevents.head(5)"
   ]
  },
  {
   "cell_type": "markdown",
   "id": "928d9bf4",
   "metadata": {
    "papermill": {
     "duration": 0.013084,
     "end_time": "2024-06-30T14:47:12.662856",
     "exception": false,
     "start_time": "2024-06-30T14:47:12.649772",
     "status": "completed"
    },
    "tags": []
   },
   "source": [
    "##### 2.1.2 Identify the ITEMID(s) for 'Blood Glucose' in d_labitems"
   ]
  },
  {
   "cell_type": "code",
   "execution_count": 14,
   "id": "ad6b859b",
   "metadata": {
    "execution": {
     "iopub.execute_input": "2024-06-30T14:47:12.691424Z",
     "iopub.status.busy": "2024-06-30T14:47:12.690526Z",
     "iopub.status.idle": "2024-06-30T14:47:12.706775Z",
     "shell.execute_reply": "2024-06-30T14:47:12.705778Z"
    },
    "papermill": {
     "duration": 0.03281,
     "end_time": "2024-06-30T14:47:12.708984",
     "exception": false,
     "start_time": "2024-06-30T14:47:12.676174",
     "status": "completed"
    },
    "tags": []
   },
   "outputs": [
    {
     "data": {
      "text/html": [
       "<div>\n",
       "<style scoped>\n",
       "    .dataframe tbody tr th:only-of-type {\n",
       "        vertical-align: middle;\n",
       "    }\n",
       "\n",
       "    .dataframe tbody tr th {\n",
       "        vertical-align: top;\n",
       "    }\n",
       "\n",
       "    .dataframe thead th {\n",
       "        text-align: right;\n",
       "    }\n",
       "</style>\n",
       "<table border=\"1\" class=\"dataframe\">\n",
       "  <thead>\n",
       "    <tr style=\"text-align: right;\">\n",
       "      <th></th>\n",
       "      <th>ROW_ID</th>\n",
       "      <th>ITEMID</th>\n",
       "      <th>LABEL</th>\n",
       "      <th>FLUID</th>\n",
       "      <th>CATEGORY</th>\n",
       "      <th>LOINC_CODE</th>\n",
       "    </tr>\n",
       "  </thead>\n",
       "  <tbody>\n",
       "    <tr>\n",
       "      <th>136</th>\n",
       "      <td>10</td>\n",
       "      <td>50809</td>\n",
       "      <td>Glucose</td>\n",
       "      <td>Blood</td>\n",
       "      <td>Blood Gas</td>\n",
       "      <td>2339-0</td>\n",
       "    </tr>\n",
       "    <tr>\n",
       "      <th>258</th>\n",
       "      <td>132</td>\n",
       "      <td>50931</td>\n",
       "      <td>Glucose</td>\n",
       "      <td>Blood</td>\n",
       "      <td>Chemistry</td>\n",
       "      <td>2345-7</td>\n",
       "    </tr>\n",
       "  </tbody>\n",
       "</table>\n",
       "</div>"
      ],
      "text/plain": [
       "     ROW_ID  ITEMID    LABEL  FLUID   CATEGORY LOINC_CODE\n",
       "136      10   50809  Glucose  Blood  Blood Gas     2339-0\n",
       "258     132   50931  Glucose  Blood  Chemistry     2345-7"
      ]
     },
     "execution_count": 14,
     "metadata": {},
     "output_type": "execute_result"
    }
   ],
   "source": [
    "item_ids = d_labitems[(d_labitems['LABEL'].str.lower() == 'glucose') & (d_labitems['FLUID'].str.lower() == 'blood')]['ITEMID'].unique()\n",
    "d_labitems[d_labitems.ITEMID.isin(item_ids)]"
   ]
  },
  {
   "cell_type": "markdown",
   "id": "7480b28f",
   "metadata": {
    "papermill": {
     "duration": 0.012988,
     "end_time": "2024-06-30T14:47:12.735312",
     "exception": false,
     "start_time": "2024-06-30T14:47:12.722324",
     "status": "completed"
    },
    "tags": []
   },
   "source": [
    "##### 2.1.3  Filter lab events to keep only records with the identified ITEMID(s)"
   ]
  },
  {
   "cell_type": "code",
   "execution_count": 15,
   "id": "a3c1f019",
   "metadata": {
    "execution": {
     "iopub.execute_input": "2024-06-30T14:47:12.763815Z",
     "iopub.status.busy": "2024-06-30T14:47:12.763170Z",
     "iopub.status.idle": "2024-06-30T14:47:12.938565Z",
     "shell.execute_reply": "2024-06-30T14:47:12.937493Z"
    },
    "papermill": {
     "duration": 0.192134,
     "end_time": "2024-06-30T14:47:12.940763",
     "exception": false,
     "start_time": "2024-06-30T14:47:12.748629",
     "status": "completed"
    },
    "tags": []
   },
   "outputs": [
    {
     "data": {
      "text/html": [
       "<div>\n",
       "<style scoped>\n",
       "    .dataframe tbody tr th:only-of-type {\n",
       "        vertical-align: middle;\n",
       "    }\n",
       "\n",
       "    .dataframe tbody tr th {\n",
       "        vertical-align: top;\n",
       "    }\n",
       "\n",
       "    .dataframe thead th {\n",
       "        text-align: right;\n",
       "    }\n",
       "</style>\n",
       "<table border=\"1\" class=\"dataframe\">\n",
       "  <thead>\n",
       "    <tr style=\"text-align: right;\">\n",
       "      <th></th>\n",
       "      <th>ROW_ID</th>\n",
       "      <th>SUBJECT_ID</th>\n",
       "      <th>HADM_ID</th>\n",
       "      <th>ITEMID</th>\n",
       "      <th>CHARTTIME</th>\n",
       "      <th>VALUE</th>\n",
       "      <th>VALUENUM</th>\n",
       "      <th>VALUEUOM</th>\n",
       "      <th>FLAG</th>\n",
       "    </tr>\n",
       "  </thead>\n",
       "  <tbody>\n",
       "    <tr>\n",
       "      <th>68</th>\n",
       "      <td>3771</td>\n",
       "      <td>6</td>\n",
       "      <td>107064.0</td>\n",
       "      <td>50931</td>\n",
       "      <td>2175-06-06 05:00:00</td>\n",
       "      <td>117</td>\n",
       "      <td>117.0</td>\n",
       "      <td>mg/dL</td>\n",
       "      <td>abnormal</td>\n",
       "    </tr>\n",
       "    <tr>\n",
       "      <th>126</th>\n",
       "      <td>4543</td>\n",
       "      <td>6</td>\n",
       "      <td>NaN</td>\n",
       "      <td>50931</td>\n",
       "      <td>2175-10-03 08:40:00</td>\n",
       "      <td>112</td>\n",
       "      <td>112.0</td>\n",
       "      <td>mg/dL</td>\n",
       "      <td>abnormal</td>\n",
       "    </tr>\n",
       "    <tr>\n",
       "      <th>181</th>\n",
       "      <td>4598</td>\n",
       "      <td>6</td>\n",
       "      <td>NaN</td>\n",
       "      <td>50931</td>\n",
       "      <td>2175-11-27 09:15:00</td>\n",
       "      <td>110</td>\n",
       "      <td>110.0</td>\n",
       "      <td>mg/dL</td>\n",
       "      <td>abnormal</td>\n",
       "    </tr>\n",
       "    <tr>\n",
       "      <th>262</th>\n",
       "      <td>3814</td>\n",
       "      <td>6</td>\n",
       "      <td>107064.0</td>\n",
       "      <td>50931</td>\n",
       "      <td>2175-06-07 05:00:00</td>\n",
       "      <td>98</td>\n",
       "      <td>98.0</td>\n",
       "      <td>mg/dL</td>\n",
       "      <td>NaN</td>\n",
       "    </tr>\n",
       "    <tr>\n",
       "      <th>285</th>\n",
       "      <td>3837</td>\n",
       "      <td>6</td>\n",
       "      <td>107064.0</td>\n",
       "      <td>50931</td>\n",
       "      <td>2175-06-08 05:00:00</td>\n",
       "      <td>120</td>\n",
       "      <td>120.0</td>\n",
       "      <td>mg/dL</td>\n",
       "      <td>abnormal</td>\n",
       "    </tr>\n",
       "    <tr>\n",
       "      <th>...</th>\n",
       "      <td>...</td>\n",
       "      <td>...</td>\n",
       "      <td>...</td>\n",
       "      <td>...</td>\n",
       "      <td>...</td>\n",
       "      <td>...</td>\n",
       "      <td>...</td>\n",
       "      <td>...</td>\n",
       "      <td>...</td>\n",
       "    </tr>\n",
       "    <tr>\n",
       "      <th>6089524</th>\n",
       "      <td>27762975</td>\n",
       "      <td>98994</td>\n",
       "      <td>178949.0</td>\n",
       "      <td>50931</td>\n",
       "      <td>2137-08-25 22:35:00</td>\n",
       "      <td>104</td>\n",
       "      <td>104.0</td>\n",
       "      <td>mg/dL</td>\n",
       "      <td>abnormal</td>\n",
       "    </tr>\n",
       "    <tr>\n",
       "      <th>6089546</th>\n",
       "      <td>27762997</td>\n",
       "      <td>98994</td>\n",
       "      <td>178949.0</td>\n",
       "      <td>50809</td>\n",
       "      <td>2137-08-25 22:51:00</td>\n",
       "      <td>102</td>\n",
       "      <td>102.0</td>\n",
       "      <td>mg/dL</td>\n",
       "      <td>NaN</td>\n",
       "    </tr>\n",
       "    <tr>\n",
       "      <th>6089561</th>\n",
       "      <td>27763012</td>\n",
       "      <td>98994</td>\n",
       "      <td>178949.0</td>\n",
       "      <td>50809</td>\n",
       "      <td>2137-08-26 04:56:00</td>\n",
       "      <td>101</td>\n",
       "      <td>101.0</td>\n",
       "      <td>mg/dL</td>\n",
       "      <td>NaN</td>\n",
       "    </tr>\n",
       "    <tr>\n",
       "      <th>6089572</th>\n",
       "      <td>27763023</td>\n",
       "      <td>98994</td>\n",
       "      <td>178949.0</td>\n",
       "      <td>50809</td>\n",
       "      <td>2137-08-26 10:29:00</td>\n",
       "      <td>99</td>\n",
       "      <td>99.0</td>\n",
       "      <td>mg/dL</td>\n",
       "      <td>NaN</td>\n",
       "    </tr>\n",
       "    <tr>\n",
       "      <th>6089610</th>\n",
       "      <td>27764183</td>\n",
       "      <td>98994</td>\n",
       "      <td>178949.0</td>\n",
       "      <td>50931</td>\n",
       "      <td>2137-09-25 04:29:00</td>\n",
       "      <td>125</td>\n",
       "      <td>125.0</td>\n",
       "      <td>mg/dL</td>\n",
       "      <td>abnormal</td>\n",
       "    </tr>\n",
       "  </tbody>\n",
       "</table>\n",
       "<p>206610 rows × 9 columns</p>\n",
       "</div>"
      ],
      "text/plain": [
       "           ROW_ID  SUBJECT_ID   HADM_ID  ITEMID            CHARTTIME VALUE  \\\n",
       "68           3771           6  107064.0   50931  2175-06-06 05:00:00   117   \n",
       "126          4543           6       NaN   50931  2175-10-03 08:40:00   112   \n",
       "181          4598           6       NaN   50931  2175-11-27 09:15:00   110   \n",
       "262          3814           6  107064.0   50931  2175-06-07 05:00:00    98   \n",
       "285          3837           6  107064.0   50931  2175-06-08 05:00:00   120   \n",
       "...           ...         ...       ...     ...                  ...   ...   \n",
       "6089524  27762975       98994  178949.0   50931  2137-08-25 22:35:00   104   \n",
       "6089546  27762997       98994  178949.0   50809  2137-08-25 22:51:00   102   \n",
       "6089561  27763012       98994  178949.0   50809  2137-08-26 04:56:00   101   \n",
       "6089572  27763023       98994  178949.0   50809  2137-08-26 10:29:00    99   \n",
       "6089610  27764183       98994  178949.0   50931  2137-09-25 04:29:00   125   \n",
       "\n",
       "         VALUENUM VALUEUOM      FLAG  \n",
       "68          117.0    mg/dL  abnormal  \n",
       "126         112.0    mg/dL  abnormal  \n",
       "181         110.0    mg/dL  abnormal  \n",
       "262          98.0    mg/dL       NaN  \n",
       "285         120.0    mg/dL  abnormal  \n",
       "...           ...      ...       ...  \n",
       "6089524     104.0    mg/dL  abnormal  \n",
       "6089546     102.0    mg/dL       NaN  \n",
       "6089561     101.0    mg/dL       NaN  \n",
       "6089572      99.0    mg/dL       NaN  \n",
       "6089610     125.0    mg/dL  abnormal  \n",
       "\n",
       "[206610 rows x 9 columns]"
      ]
     },
     "execution_count": 15,
     "metadata": {},
     "output_type": "execute_result"
    }
   ],
   "source": [
    "# Step 2: Filter lab events to keep only records with the identified ITEMID(s)\n",
    "bg_events = labevents[labevents['ITEMID'].isin(item_ids)]\n",
    "bg_events"
   ]
  },
  {
   "cell_type": "markdown",
   "id": "6ee0ac1b",
   "metadata": {
    "papermill": {
     "duration": 0.014084,
     "end_time": "2024-06-30T14:47:12.969239",
     "exception": false,
     "start_time": "2024-06-30T14:47:12.955155",
     "status": "completed"
    },
    "tags": []
   },
   "source": [
    "##### 2.1.4 Filter abnormal values"
   ]
  },
  {
   "cell_type": "code",
   "execution_count": 16,
   "id": "c012b6a3",
   "metadata": {
    "execution": {
     "iopub.execute_input": "2024-06-30T14:47:12.998956Z",
     "iopub.status.busy": "2024-06-30T14:47:12.998207Z",
     "iopub.status.idle": "2024-06-30T14:47:13.044654Z",
     "shell.execute_reply": "2024-06-30T14:47:13.043665Z"
    },
    "papermill": {
     "duration": 0.063887,
     "end_time": "2024-06-30T14:47:13.047034",
     "exception": false,
     "start_time": "2024-06-30T14:47:12.983147",
     "status": "completed"
    },
    "tags": []
   },
   "outputs": [
    {
     "data": {
      "text/html": [
       "<div>\n",
       "<style scoped>\n",
       "    .dataframe tbody tr th:only-of-type {\n",
       "        vertical-align: middle;\n",
       "    }\n",
       "\n",
       "    .dataframe tbody tr th {\n",
       "        vertical-align: top;\n",
       "    }\n",
       "\n",
       "    .dataframe thead th {\n",
       "        text-align: right;\n",
       "    }\n",
       "</style>\n",
       "<table border=\"1\" class=\"dataframe\">\n",
       "  <thead>\n",
       "    <tr style=\"text-align: right;\">\n",
       "      <th></th>\n",
       "      <th>ROW_ID</th>\n",
       "      <th>SUBJECT_ID</th>\n",
       "      <th>HADM_ID</th>\n",
       "      <th>ITEMID</th>\n",
       "      <th>CHARTTIME</th>\n",
       "      <th>VALUE</th>\n",
       "      <th>VALUENUM</th>\n",
       "      <th>VALUEUOM</th>\n",
       "      <th>FLAG</th>\n",
       "    </tr>\n",
       "  </thead>\n",
       "  <tbody>\n",
       "    <tr>\n",
       "      <th>68</th>\n",
       "      <td>3771</td>\n",
       "      <td>6</td>\n",
       "      <td>107064.0</td>\n",
       "      <td>50931</td>\n",
       "      <td>2175-06-06 05:00:00</td>\n",
       "      <td>117</td>\n",
       "      <td>117.0</td>\n",
       "      <td>mg/dL</td>\n",
       "      <td>abnormal</td>\n",
       "    </tr>\n",
       "    <tr>\n",
       "      <th>126</th>\n",
       "      <td>4543</td>\n",
       "      <td>6</td>\n",
       "      <td>NaN</td>\n",
       "      <td>50931</td>\n",
       "      <td>2175-10-03 08:40:00</td>\n",
       "      <td>112</td>\n",
       "      <td>112.0</td>\n",
       "      <td>mg/dL</td>\n",
       "      <td>abnormal</td>\n",
       "    </tr>\n",
       "    <tr>\n",
       "      <th>181</th>\n",
       "      <td>4598</td>\n",
       "      <td>6</td>\n",
       "      <td>NaN</td>\n",
       "      <td>50931</td>\n",
       "      <td>2175-11-27 09:15:00</td>\n",
       "      <td>110</td>\n",
       "      <td>110.0</td>\n",
       "      <td>mg/dL</td>\n",
       "      <td>abnormal</td>\n",
       "    </tr>\n",
       "    <tr>\n",
       "      <th>285</th>\n",
       "      <td>3837</td>\n",
       "      <td>6</td>\n",
       "      <td>107064.0</td>\n",
       "      <td>50931</td>\n",
       "      <td>2175-06-08 05:00:00</td>\n",
       "      <td>120</td>\n",
       "      <td>120.0</td>\n",
       "      <td>mg/dL</td>\n",
       "      <td>abnormal</td>\n",
       "    </tr>\n",
       "    <tr>\n",
       "      <th>378</th>\n",
       "      <td>3930</td>\n",
       "      <td>6</td>\n",
       "      <td>107064.0</td>\n",
       "      <td>50931</td>\n",
       "      <td>2175-06-12 04:54:00</td>\n",
       "      <td>135</td>\n",
       "      <td>135.0</td>\n",
       "      <td>mg/dL</td>\n",
       "      <td>abnormal</td>\n",
       "    </tr>\n",
       "    <tr>\n",
       "      <th>...</th>\n",
       "      <td>...</td>\n",
       "      <td>...</td>\n",
       "      <td>...</td>\n",
       "      <td>...</td>\n",
       "      <td>...</td>\n",
       "      <td>...</td>\n",
       "      <td>...</td>\n",
       "      <td>...</td>\n",
       "      <td>...</td>\n",
       "    </tr>\n",
       "    <tr>\n",
       "      <th>6089365</th>\n",
       "      <td>27806622</td>\n",
       "      <td>99291</td>\n",
       "      <td>186413.0</td>\n",
       "      <td>50809</td>\n",
       "      <td>2120-09-02 09:37:00</td>\n",
       "      <td>109</td>\n",
       "      <td>109.0</td>\n",
       "      <td>mg/dL</td>\n",
       "      <td>abnormal</td>\n",
       "    </tr>\n",
       "    <tr>\n",
       "      <th>6089393</th>\n",
       "      <td>27765286</td>\n",
       "      <td>98994</td>\n",
       "      <td>132172.0</td>\n",
       "      <td>50931</td>\n",
       "      <td>2137-10-30 13:59:00</td>\n",
       "      <td>118</td>\n",
       "      <td>118.0</td>\n",
       "      <td>mg/dL</td>\n",
       "      <td>abnormal</td>\n",
       "    </tr>\n",
       "    <tr>\n",
       "      <th>6089450</th>\n",
       "      <td>27765343</td>\n",
       "      <td>98994</td>\n",
       "      <td>161559.0</td>\n",
       "      <td>50931</td>\n",
       "      <td>2138-06-27 01:17:00</td>\n",
       "      <td>131</td>\n",
       "      <td>131.0</td>\n",
       "      <td>mg/dL</td>\n",
       "      <td>abnormal</td>\n",
       "    </tr>\n",
       "    <tr>\n",
       "      <th>6089524</th>\n",
       "      <td>27762975</td>\n",
       "      <td>98994</td>\n",
       "      <td>178949.0</td>\n",
       "      <td>50931</td>\n",
       "      <td>2137-08-25 22:35:00</td>\n",
       "      <td>104</td>\n",
       "      <td>104.0</td>\n",
       "      <td>mg/dL</td>\n",
       "      <td>abnormal</td>\n",
       "    </tr>\n",
       "    <tr>\n",
       "      <th>6089610</th>\n",
       "      <td>27764183</td>\n",
       "      <td>98994</td>\n",
       "      <td>178949.0</td>\n",
       "      <td>50931</td>\n",
       "      <td>2137-09-25 04:29:00</td>\n",
       "      <td>125</td>\n",
       "      <td>125.0</td>\n",
       "      <td>mg/dL</td>\n",
       "      <td>abnormal</td>\n",
       "    </tr>\n",
       "  </tbody>\n",
       "</table>\n",
       "<p>144082 rows × 9 columns</p>\n",
       "</div>"
      ],
      "text/plain": [
       "           ROW_ID  SUBJECT_ID   HADM_ID  ITEMID            CHARTTIME VALUE  \\\n",
       "68           3771           6  107064.0   50931  2175-06-06 05:00:00   117   \n",
       "126          4543           6       NaN   50931  2175-10-03 08:40:00   112   \n",
       "181          4598           6       NaN   50931  2175-11-27 09:15:00   110   \n",
       "285          3837           6  107064.0   50931  2175-06-08 05:00:00   120   \n",
       "378          3930           6  107064.0   50931  2175-06-12 04:54:00   135   \n",
       "...           ...         ...       ...     ...                  ...   ...   \n",
       "6089365  27806622       99291  186413.0   50809  2120-09-02 09:37:00   109   \n",
       "6089393  27765286       98994  132172.0   50931  2137-10-30 13:59:00   118   \n",
       "6089450  27765343       98994  161559.0   50931  2138-06-27 01:17:00   131   \n",
       "6089524  27762975       98994  178949.0   50931  2137-08-25 22:35:00   104   \n",
       "6089610  27764183       98994  178949.0   50931  2137-09-25 04:29:00   125   \n",
       "\n",
       "         VALUENUM VALUEUOM      FLAG  \n",
       "68          117.0    mg/dL  abnormal  \n",
       "126         112.0    mg/dL  abnormal  \n",
       "181         110.0    mg/dL  abnormal  \n",
       "285         120.0    mg/dL  abnormal  \n",
       "378         135.0    mg/dL  abnormal  \n",
       "...           ...      ...       ...  \n",
       "6089365     109.0    mg/dL  abnormal  \n",
       "6089393     118.0    mg/dL  abnormal  \n",
       "6089450     131.0    mg/dL  abnormal  \n",
       "6089524     104.0    mg/dL  abnormal  \n",
       "6089610     125.0    mg/dL  abnormal  \n",
       "\n",
       "[144082 rows x 9 columns]"
      ]
     },
     "execution_count": 16,
     "metadata": {},
     "output_type": "execute_result"
    }
   ],
   "source": [
    "bg_events = bg_events[bg_events[\"FLAG\"] == \"abnormal\"]\n",
    "bg_events"
   ]
  },
  {
   "cell_type": "markdown",
   "id": "63283388",
   "metadata": {
    "papermill": {
     "duration": 0.013986,
     "end_time": "2024-06-30T14:47:13.075219",
     "exception": false,
     "start_time": "2024-06-30T14:47:13.061233",
     "status": "completed"
    },
    "tags": []
   },
   "source": [
    "##### 2.1.5  Filter unique patients"
   ]
  },
  {
   "cell_type": "code",
   "execution_count": 17,
   "id": "aa65a666",
   "metadata": {
    "execution": {
     "iopub.execute_input": "2024-06-30T14:47:13.105465Z",
     "iopub.status.busy": "2024-06-30T14:47:13.104660Z",
     "iopub.status.idle": "2024-06-30T14:47:13.185080Z",
     "shell.execute_reply": "2024-06-30T14:47:13.184080Z"
    },
    "papermill": {
     "duration": 0.098121,
     "end_time": "2024-06-30T14:47:13.187394",
     "exception": false,
     "start_time": "2024-06-30T14:47:13.089273",
     "status": "completed"
    },
    "tags": []
   },
   "outputs": [
    {
     "data": {
      "text/html": [
       "<div>\n",
       "<style scoped>\n",
       "    .dataframe tbody tr th:only-of-type {\n",
       "        vertical-align: middle;\n",
       "    }\n",
       "\n",
       "    .dataframe tbody tr th {\n",
       "        vertical-align: top;\n",
       "    }\n",
       "\n",
       "    .dataframe thead th {\n",
       "        text-align: right;\n",
       "    }\n",
       "</style>\n",
       "<table border=\"1\" class=\"dataframe\">\n",
       "  <thead>\n",
       "    <tr style=\"text-align: right;\">\n",
       "      <th></th>\n",
       "      <th>SUBJECT_ID</th>\n",
       "      <th>ROW_ID</th>\n",
       "      <th>HADM_ID</th>\n",
       "      <th>ITEMID</th>\n",
       "      <th>CHARTTIME</th>\n",
       "      <th>VALUE</th>\n",
       "      <th>VALUENUM</th>\n",
       "      <th>VALUEUOM</th>\n",
       "      <th>FLAG</th>\n",
       "    </tr>\n",
       "  </thead>\n",
       "  <tbody>\n",
       "    <tr>\n",
       "      <th>0</th>\n",
       "      <td>6</td>\n",
       "      <td>3771</td>\n",
       "      <td>107064.0</td>\n",
       "      <td>50931</td>\n",
       "      <td>2175-06-06 05:00:00</td>\n",
       "      <td>117</td>\n",
       "      <td>117.0</td>\n",
       "      <td>mg/dL</td>\n",
       "      <td>abnormal</td>\n",
       "    </tr>\n",
       "    <tr>\n",
       "      <th>1</th>\n",
       "      <td>13</td>\n",
       "      <td>6990</td>\n",
       "      <td>143045.0</td>\n",
       "      <td>50809</td>\n",
       "      <td>2167-01-09 20:08:00</td>\n",
       "      <td>158</td>\n",
       "      <td>158.0</td>\n",
       "      <td>mg/dL</td>\n",
       "      <td>abnormal</td>\n",
       "    </tr>\n",
       "    <tr>\n",
       "      <th>2</th>\n",
       "      <td>35</td>\n",
       "      <td>14070</td>\n",
       "      <td>166707.0</td>\n",
       "      <td>50809</td>\n",
       "      <td>2122-02-11 03:13:00</td>\n",
       "      <td>124</td>\n",
       "      <td>124.0</td>\n",
       "      <td>mg/dL</td>\n",
       "      <td>abnormal</td>\n",
       "    </tr>\n",
       "    <tr>\n",
       "      <th>3</th>\n",
       "      <td>62</td>\n",
       "      <td>29867</td>\n",
       "      <td>116009.0</td>\n",
       "      <td>50931</td>\n",
       "      <td>2113-02-14 20:20:00</td>\n",
       "      <td>125</td>\n",
       "      <td>125.0</td>\n",
       "      <td>mg/dL</td>\n",
       "      <td>abnormal</td>\n",
       "    </tr>\n",
       "    <tr>\n",
       "      <th>4</th>\n",
       "      <td>64</td>\n",
       "      <td>31018</td>\n",
       "      <td>172056.0</td>\n",
       "      <td>50931</td>\n",
       "      <td>2143-06-24 05:15:00</td>\n",
       "      <td>117</td>\n",
       "      <td>117.0</td>\n",
       "      <td>mg/dL</td>\n",
       "      <td>abnormal</td>\n",
       "    </tr>\n",
       "    <tr>\n",
       "      <th>...</th>\n",
       "      <td>...</td>\n",
       "      <td>...</td>\n",
       "      <td>...</td>\n",
       "      <td>...</td>\n",
       "      <td>...</td>\n",
       "      <td>...</td>\n",
       "      <td>...</td>\n",
       "      <td>...</td>\n",
       "      <td>...</td>\n",
       "    </tr>\n",
       "    <tr>\n",
       "      <th>8268</th>\n",
       "      <td>99881</td>\n",
       "      <td>27896114</td>\n",
       "      <td>172327.0</td>\n",
       "      <td>50931</td>\n",
       "      <td>2174-01-22 07:49:00</td>\n",
       "      <td>121</td>\n",
       "      <td>121.0</td>\n",
       "      <td>mg/dL</td>\n",
       "      <td>abnormal</td>\n",
       "    </tr>\n",
       "    <tr>\n",
       "      <th>8269</th>\n",
       "      <td>99893</td>\n",
       "      <td>27896706</td>\n",
       "      <td>128349.0</td>\n",
       "      <td>50931</td>\n",
       "      <td>2193-04-01 16:07:00</td>\n",
       "      <td>156</td>\n",
       "      <td>156.0</td>\n",
       "      <td>mg/dL</td>\n",
       "      <td>abnormal</td>\n",
       "    </tr>\n",
       "    <tr>\n",
       "      <th>8270</th>\n",
       "      <td>99923</td>\n",
       "      <td>27900039</td>\n",
       "      <td>164914.0</td>\n",
       "      <td>50931</td>\n",
       "      <td>2201-03-03 03:50:00</td>\n",
       "      <td>105</td>\n",
       "      <td>105.0</td>\n",
       "      <td>mg/dL</td>\n",
       "      <td>abnormal</td>\n",
       "    </tr>\n",
       "    <tr>\n",
       "      <th>8271</th>\n",
       "      <td>99936</td>\n",
       "      <td>27901191</td>\n",
       "      <td>107913.0</td>\n",
       "      <td>50931</td>\n",
       "      <td>2182-10-11 11:05:00</td>\n",
       "      <td>130</td>\n",
       "      <td>130.0</td>\n",
       "      <td>mg/dL</td>\n",
       "      <td>abnormal</td>\n",
       "    </tr>\n",
       "    <tr>\n",
       "      <th>8272</th>\n",
       "      <td>99999</td>\n",
       "      <td>27907580</td>\n",
       "      <td>113369.0</td>\n",
       "      <td>50809</td>\n",
       "      <td>2117-12-30 11:03:00</td>\n",
       "      <td>112</td>\n",
       "      <td>112.0</td>\n",
       "      <td>mg/dL</td>\n",
       "      <td>abnormal</td>\n",
       "    </tr>\n",
       "  </tbody>\n",
       "</table>\n",
       "<p>8273 rows × 9 columns</p>\n",
       "</div>"
      ],
      "text/plain": [
       "      SUBJECT_ID    ROW_ID   HADM_ID  ITEMID            CHARTTIME VALUE  \\\n",
       "0              6      3771  107064.0   50931  2175-06-06 05:00:00   117   \n",
       "1             13      6990  143045.0   50809  2167-01-09 20:08:00   158   \n",
       "2             35     14070  166707.0   50809  2122-02-11 03:13:00   124   \n",
       "3             62     29867  116009.0   50931  2113-02-14 20:20:00   125   \n",
       "4             64     31018  172056.0   50931  2143-06-24 05:15:00   117   \n",
       "...          ...       ...       ...     ...                  ...   ...   \n",
       "8268       99881  27896114  172327.0   50931  2174-01-22 07:49:00   121   \n",
       "8269       99893  27896706  128349.0   50931  2193-04-01 16:07:00   156   \n",
       "8270       99923  27900039  164914.0   50931  2201-03-03 03:50:00   105   \n",
       "8271       99936  27901191  107913.0   50931  2182-10-11 11:05:00   130   \n",
       "8272       99999  27907580  113369.0   50809  2117-12-30 11:03:00   112   \n",
       "\n",
       "      VALUENUM VALUEUOM      FLAG  \n",
       "0        117.0    mg/dL  abnormal  \n",
       "1        158.0    mg/dL  abnormal  \n",
       "2        124.0    mg/dL  abnormal  \n",
       "3        125.0    mg/dL  abnormal  \n",
       "4        117.0    mg/dL  abnormal  \n",
       "...        ...      ...       ...  \n",
       "8268     121.0    mg/dL  abnormal  \n",
       "8269     156.0    mg/dL  abnormal  \n",
       "8270     105.0    mg/dL  abnormal  \n",
       "8271     130.0    mg/dL  abnormal  \n",
       "8272     112.0    mg/dL  abnormal  \n",
       "\n",
       "[8273 rows x 9 columns]"
      ]
     },
     "execution_count": 17,
     "metadata": {},
     "output_type": "execute_result"
    }
   ],
   "source": [
    "bg_events.groupby('SUBJECT_ID').first().reset_index()"
   ]
  },
  {
   "cell_type": "markdown",
   "id": "53c23c43",
   "metadata": {
    "papermill": {
     "duration": 0.014835,
     "end_time": "2024-06-30T14:47:13.217044",
     "exception": false,
     "start_time": "2024-06-30T14:47:13.202209",
     "status": "completed"
    },
    "tags": []
   },
   "source": [
    "#### 2.2 What are the top 5 chronic diseases and their count?"
   ]
  },
  {
   "cell_type": "markdown",
   "id": "0057ced3",
   "metadata": {
    "papermill": {
     "duration": 0.014055,
     "end_time": "2024-06-30T14:47:13.245655",
     "exception": false,
     "start_time": "2024-06-30T14:47:13.231600",
     "status": "completed"
    },
    "tags": []
   },
   "source": [
    "##### 2.2.1 Read Relevant Tables"
   ]
  },
  {
   "cell_type": "code",
   "execution_count": 18,
   "id": "eabbc884",
   "metadata": {
    "execution": {
     "iopub.execute_input": "2024-06-30T14:47:13.276111Z",
     "iopub.status.busy": "2024-06-30T14:47:13.275709Z",
     "iopub.status.idle": "2024-06-30T14:47:13.332452Z",
     "shell.execute_reply": "2024-06-30T14:47:13.331378Z"
    },
    "papermill": {
     "duration": 0.074686,
     "end_time": "2024-06-30T14:47:13.334739",
     "exception": false,
     "start_time": "2024-06-30T14:47:13.260053",
     "status": "completed"
    },
    "tags": []
   },
   "outputs": [
    {
     "data": {
      "text/html": [
       "<div>\n",
       "<style scoped>\n",
       "    .dataframe tbody tr th:only-of-type {\n",
       "        vertical-align: middle;\n",
       "    }\n",
       "\n",
       "    .dataframe tbody tr th {\n",
       "        vertical-align: top;\n",
       "    }\n",
       "\n",
       "    .dataframe thead th {\n",
       "        text-align: right;\n",
       "    }\n",
       "</style>\n",
       "<table border=\"1\" class=\"dataframe\">\n",
       "  <thead>\n",
       "    <tr style=\"text-align: right;\">\n",
       "      <th></th>\n",
       "      <th>ROW_ID</th>\n",
       "      <th>ICD9_CODE</th>\n",
       "      <th>SHORT_TITLE</th>\n",
       "      <th>LONG_TITLE</th>\n",
       "    </tr>\n",
       "  </thead>\n",
       "  <tbody>\n",
       "    <tr>\n",
       "      <th>0</th>\n",
       "      <td>174</td>\n",
       "      <td>01166</td>\n",
       "      <td>TB pneumonia-oth test</td>\n",
       "      <td>Tuberculous pneumonia [any form], tubercle bac...</td>\n",
       "    </tr>\n",
       "    <tr>\n",
       "      <th>1</th>\n",
       "      <td>175</td>\n",
       "      <td>01170</td>\n",
       "      <td>TB pneumothorax-unspec</td>\n",
       "      <td>Tuberculous pneumothorax, unspecified</td>\n",
       "    </tr>\n",
       "    <tr>\n",
       "      <th>2</th>\n",
       "      <td>176</td>\n",
       "      <td>01171</td>\n",
       "      <td>TB pneumothorax-no exam</td>\n",
       "      <td>Tuberculous pneumothorax, bacteriological or h...</td>\n",
       "    </tr>\n",
       "    <tr>\n",
       "      <th>3</th>\n",
       "      <td>177</td>\n",
       "      <td>01172</td>\n",
       "      <td>TB pneumothorx-exam unkn</td>\n",
       "      <td>Tuberculous pneumothorax, bacteriological or h...</td>\n",
       "    </tr>\n",
       "    <tr>\n",
       "      <th>4</th>\n",
       "      <td>178</td>\n",
       "      <td>01173</td>\n",
       "      <td>TB pneumothorax-micro dx</td>\n",
       "      <td>Tuberculous pneumothorax, tubercle bacilli fou...</td>\n",
       "    </tr>\n",
       "  </tbody>\n",
       "</table>\n",
       "</div>"
      ],
      "text/plain": [
       "   ROW_ID ICD9_CODE               SHORT_TITLE  \\\n",
       "0     174     01166     TB pneumonia-oth test   \n",
       "1     175     01170    TB pneumothorax-unspec   \n",
       "2     176     01171   TB pneumothorax-no exam   \n",
       "3     177     01172  TB pneumothorx-exam unkn   \n",
       "4     178     01173  TB pneumothorax-micro dx   \n",
       "\n",
       "                                          LONG_TITLE  \n",
       "0  Tuberculous pneumonia [any form], tubercle bac...  \n",
       "1              Tuberculous pneumothorax, unspecified  \n",
       "2  Tuberculous pneumothorax, bacteriological or h...  \n",
       "3  Tuberculous pneumothorax, bacteriological or h...  \n",
       "4  Tuberculous pneumothorax, tubercle bacilli fou...  "
      ]
     },
     "execution_count": 18,
     "metadata": {},
     "output_type": "execute_result"
    }
   ],
   "source": [
    "d_icd_diagnosis = pd.read_csv(os.path.join(base_path,\"D_ICD_DIAGNOSES/D_ICD_DIAGNOSES.csv\"))\n",
    "d_icd_diagnosis.head(5)"
   ]
  },
  {
   "cell_type": "code",
   "execution_count": 19,
   "id": "946e31f4",
   "metadata": {
    "execution": {
     "iopub.execute_input": "2024-06-30T14:47:13.366136Z",
     "iopub.status.busy": "2024-06-30T14:47:13.365738Z",
     "iopub.status.idle": "2024-06-30T14:47:13.503661Z",
     "shell.execute_reply": "2024-06-30T14:47:13.502554Z"
    },
    "papermill": {
     "duration": 0.15598,
     "end_time": "2024-06-30T14:47:13.505829",
     "exception": false,
     "start_time": "2024-06-30T14:47:13.349849",
     "status": "completed"
    },
    "tags": []
   },
   "outputs": [
    {
     "data": {
      "text/html": [
       "<div>\n",
       "<style scoped>\n",
       "    .dataframe tbody tr th:only-of-type {\n",
       "        vertical-align: middle;\n",
       "    }\n",
       "\n",
       "    .dataframe tbody tr th {\n",
       "        vertical-align: top;\n",
       "    }\n",
       "\n",
       "    .dataframe thead th {\n",
       "        text-align: right;\n",
       "    }\n",
       "</style>\n",
       "<table border=\"1\" class=\"dataframe\">\n",
       "  <thead>\n",
       "    <tr style=\"text-align: right;\">\n",
       "      <th></th>\n",
       "      <th>ROW_ID</th>\n",
       "      <th>SUBJECT_ID</th>\n",
       "      <th>HADM_ID</th>\n",
       "      <th>SEQ_NUM</th>\n",
       "      <th>ICD9_CODE</th>\n",
       "    </tr>\n",
       "  </thead>\n",
       "  <tbody>\n",
       "    <tr>\n",
       "      <th>0</th>\n",
       "      <td>1488</td>\n",
       "      <td>112</td>\n",
       "      <td>174105</td>\n",
       "      <td>1.0</td>\n",
       "      <td>53100</td>\n",
       "    </tr>\n",
       "    <tr>\n",
       "      <th>1</th>\n",
       "      <td>1489</td>\n",
       "      <td>112</td>\n",
       "      <td>174105</td>\n",
       "      <td>2.0</td>\n",
       "      <td>41071</td>\n",
       "    </tr>\n",
       "    <tr>\n",
       "      <th>2</th>\n",
       "      <td>1490</td>\n",
       "      <td>112</td>\n",
       "      <td>174105</td>\n",
       "      <td>3.0</td>\n",
       "      <td>2859</td>\n",
       "    </tr>\n",
       "    <tr>\n",
       "      <th>3</th>\n",
       "      <td>1491</td>\n",
       "      <td>112</td>\n",
       "      <td>174105</td>\n",
       "      <td>4.0</td>\n",
       "      <td>41401</td>\n",
       "    </tr>\n",
       "    <tr>\n",
       "      <th>4</th>\n",
       "      <td>1492</td>\n",
       "      <td>112</td>\n",
       "      <td>174105</td>\n",
       "      <td>5.0</td>\n",
       "      <td>725</td>\n",
       "    </tr>\n",
       "  </tbody>\n",
       "</table>\n",
       "</div>"
      ],
      "text/plain": [
       "   ROW_ID  SUBJECT_ID  HADM_ID  SEQ_NUM ICD9_CODE\n",
       "0    1488         112   174105      1.0     53100\n",
       "1    1489         112   174105      2.0     41071\n",
       "2    1490         112   174105      3.0      2859\n",
       "3    1491         112   174105      4.0     41401\n",
       "4    1492         112   174105      5.0       725"
      ]
     },
     "execution_count": 19,
     "metadata": {},
     "output_type": "execute_result"
    }
   ],
   "source": [
    "diagnosis_icd = pd.read_csv(os.path.join(base_path,\"DIAGNOSES_ICD/DIAGNOSES_ICD_random.csv\"))\n",
    "diagnosis_icd.head(5)"
   ]
  },
  {
   "cell_type": "markdown",
   "id": "65da6691",
   "metadata": {
    "papermill": {
     "duration": 0.014399,
     "end_time": "2024-06-30T14:47:13.535207",
     "exception": false,
     "start_time": "2024-06-30T14:47:13.520808",
     "status": "completed"
    },
    "tags": []
   },
   "source": [
    "##### 2.2.2 Identify icd9 codes with chronic in short title or long title\n"
   ]
  },
  {
   "cell_type": "code",
   "execution_count": 20,
   "id": "431dc938",
   "metadata": {
    "execution": {
     "iopub.execute_input": "2024-06-30T14:47:13.567230Z",
     "iopub.status.busy": "2024-06-30T14:47:13.566355Z",
     "iopub.status.idle": "2024-06-30T14:47:13.601520Z",
     "shell.execute_reply": "2024-06-30T14:47:13.600541Z"
    },
    "papermill": {
     "duration": 0.053578,
     "end_time": "2024-06-30T14:47:13.603664",
     "exception": false,
     "start_time": "2024-06-30T14:47:13.550086",
     "status": "completed"
    },
    "tags": []
   },
   "outputs": [
    {
     "data": {
      "text/html": [
       "<div>\n",
       "<style scoped>\n",
       "    .dataframe tbody tr th:only-of-type {\n",
       "        vertical-align: middle;\n",
       "    }\n",
       "\n",
       "    .dataframe tbody tr th {\n",
       "        vertical-align: top;\n",
       "    }\n",
       "\n",
       "    .dataframe thead th {\n",
       "        text-align: right;\n",
       "    }\n",
       "</style>\n",
       "<table border=\"1\" class=\"dataframe\">\n",
       "  <thead>\n",
       "    <tr style=\"text-align: right;\">\n",
       "      <th></th>\n",
       "      <th>ROW_ID</th>\n",
       "      <th>ICD9_CODE</th>\n",
       "      <th>SHORT_TITLE</th>\n",
       "      <th>LONG_TITLE</th>\n",
       "    </tr>\n",
       "  </thead>\n",
       "  <tbody>\n",
       "    <tr>\n",
       "      <th>93</th>\n",
       "      <td>266</td>\n",
       "      <td>0061</td>\n",
       "      <td>Chr amebiasis w/o absces</td>\n",
       "      <td>Chronic intestinal amebiasis without mention o...</td>\n",
       "    </tr>\n",
       "    <tr>\n",
       "      <th>411</th>\n",
       "      <td>462</td>\n",
       "      <td>0982</td>\n",
       "      <td>Chr gc infect lower gu</td>\n",
       "      <td>Gonococcal infection, chronic, of lower genito...</td>\n",
       "    </tr>\n",
       "    <tr>\n",
       "      <th>412</th>\n",
       "      <td>463</td>\n",
       "      <td>09830</td>\n",
       "      <td>Chr gc upper gu NOS</td>\n",
       "      <td>Chronic gonococcal infection of upper genitour...</td>\n",
       "    </tr>\n",
       "    <tr>\n",
       "      <th>413</th>\n",
       "      <td>464</td>\n",
       "      <td>09831</td>\n",
       "      <td>Gc cystitis, chronic</td>\n",
       "      <td>Gonococcal cystitis, chronic</td>\n",
       "    </tr>\n",
       "    <tr>\n",
       "      <th>414</th>\n",
       "      <td>465</td>\n",
       "      <td>09832</td>\n",
       "      <td>Gc prostatitis, chronic</td>\n",
       "      <td>Gonococcal prostatitis, chronic</td>\n",
       "    </tr>\n",
       "    <tr>\n",
       "      <th>...</th>\n",
       "      <td>...</td>\n",
       "      <td>...</td>\n",
       "      <td>...</td>\n",
       "      <td>...</td>\n",
       "    </tr>\n",
       "    <tr>\n",
       "      <th>11042</th>\n",
       "      <td>13847</td>\n",
       "      <td>73017</td>\n",
       "      <td>Chr osteomyelit-ankle</td>\n",
       "      <td>Chronic osteomyelitis, ankle and foot</td>\n",
       "    </tr>\n",
       "    <tr>\n",
       "      <th>11043</th>\n",
       "      <td>13848</td>\n",
       "      <td>73018</td>\n",
       "      <td>Chr osteomyelit NEC</td>\n",
       "      <td>Chronic osteomyelitis, other specified sites</td>\n",
       "    </tr>\n",
       "    <tr>\n",
       "      <th>11044</th>\n",
       "      <td>13849</td>\n",
       "      <td>73019</td>\n",
       "      <td>Chr osteomyelit-mult</td>\n",
       "      <td>Chronic osteomyelitis, multiple sites</td>\n",
       "    </tr>\n",
       "    <tr>\n",
       "      <th>11759</th>\n",
       "      <td>12375</td>\n",
       "      <td>99762</td>\n",
       "      <td>Infection amputat stump</td>\n",
       "      <td>Infection (chronic) of amputation stump</td>\n",
       "    </tr>\n",
       "    <tr>\n",
       "      <th>12509</th>\n",
       "      <td>10353</td>\n",
       "      <td>V176</td>\n",
       "      <td>Fam hx-chr resp cond NEC</td>\n",
       "      <td>Family history of other chronic respiratory co...</td>\n",
       "    </tr>\n",
       "  </tbody>\n",
       "</table>\n",
       "<p>342 rows × 4 columns</p>\n",
       "</div>"
      ],
      "text/plain": [
       "       ROW_ID ICD9_CODE               SHORT_TITLE  \\\n",
       "93        266      0061  Chr amebiasis w/o absces   \n",
       "411       462      0982    Chr gc infect lower gu   \n",
       "412       463     09830       Chr gc upper gu NOS   \n",
       "413       464     09831      Gc cystitis, chronic   \n",
       "414       465     09832   Gc prostatitis, chronic   \n",
       "...       ...       ...                       ...   \n",
       "11042   13847     73017     Chr osteomyelit-ankle   \n",
       "11043   13848     73018       Chr osteomyelit NEC   \n",
       "11044   13849     73019      Chr osteomyelit-mult   \n",
       "11759   12375     99762   Infection amputat stump   \n",
       "12509   10353      V176  Fam hx-chr resp cond NEC   \n",
       "\n",
       "                                              LONG_TITLE  \n",
       "93     Chronic intestinal amebiasis without mention o...  \n",
       "411    Gonococcal infection, chronic, of lower genito...  \n",
       "412    Chronic gonococcal infection of upper genitour...  \n",
       "413                         Gonococcal cystitis, chronic  \n",
       "414                      Gonococcal prostatitis, chronic  \n",
       "...                                                  ...  \n",
       "11042              Chronic osteomyelitis, ankle and foot  \n",
       "11043       Chronic osteomyelitis, other specified sites  \n",
       "11044              Chronic osteomyelitis, multiple sites  \n",
       "11759            Infection (chronic) of amputation stump  \n",
       "12509  Family history of other chronic respiratory co...  \n",
       "\n",
       "[342 rows x 4 columns]"
      ]
     },
     "execution_count": 20,
     "metadata": {},
     "output_type": "execute_result"
    }
   ],
   "source": [
    "chronic_icd9_codes = d_icd_diagnosis[(d_icd_diagnosis['SHORT_TITLE'].str.lower().str.contains(\"chronic\")) | (d_icd_diagnosis['LONG_TITLE'].str.lower().str.contains(\"chronic\"))]['ICD9_CODE'].unique()\n",
    "d_icd_diagnosis[d_icd_diagnosis.ICD9_CODE.isin(chronic_icd9_codes)]"
   ]
  },
  {
   "cell_type": "markdown",
   "id": "40afb8f2",
   "metadata": {
    "papermill": {
     "duration": 0.014946,
     "end_time": "2024-06-30T14:47:13.633677",
     "exception": false,
     "start_time": "2024-06-30T14:47:13.618731",
     "status": "completed"
    },
    "tags": []
   },
   "source": [
    "##### 2.2.3 Identify relevant diagnosis with the filtered icd9 codes\n"
   ]
  },
  {
   "cell_type": "code",
   "execution_count": 21,
   "id": "26a0fa87",
   "metadata": {
    "execution": {
     "iopub.execute_input": "2024-06-30T14:47:13.666330Z",
     "iopub.status.busy": "2024-06-30T14:47:13.665612Z",
     "iopub.status.idle": "2024-06-30T14:47:13.692657Z",
     "shell.execute_reply": "2024-06-30T14:47:13.691720Z"
    },
    "papermill": {
     "duration": 0.046154,
     "end_time": "2024-06-30T14:47:13.694952",
     "exception": false,
     "start_time": "2024-06-30T14:47:13.648798",
     "status": "completed"
    },
    "tags": []
   },
   "outputs": [
    {
     "data": {
      "text/html": [
       "<div>\n",
       "<style scoped>\n",
       "    .dataframe tbody tr th:only-of-type {\n",
       "        vertical-align: middle;\n",
       "    }\n",
       "\n",
       "    .dataframe tbody tr th {\n",
       "        vertical-align: top;\n",
       "    }\n",
       "\n",
       "    .dataframe thead th {\n",
       "        text-align: right;\n",
       "    }\n",
       "</style>\n",
       "<table border=\"1\" class=\"dataframe\">\n",
       "  <thead>\n",
       "    <tr style=\"text-align: right;\">\n",
       "      <th></th>\n",
       "      <th>ROW_ID</th>\n",
       "      <th>SUBJECT_ID</th>\n",
       "      <th>HADM_ID</th>\n",
       "      <th>SEQ_NUM</th>\n",
       "      <th>ICD9_CODE</th>\n",
       "    </tr>\n",
       "  </thead>\n",
       "  <tbody>\n",
       "    <tr>\n",
       "      <th>33</th>\n",
       "      <td>1630</td>\n",
       "      <td>125</td>\n",
       "      <td>157348</td>\n",
       "      <td>4.0</td>\n",
       "      <td>4168</td>\n",
       "    </tr>\n",
       "    <tr>\n",
       "      <th>42</th>\n",
       "      <td>1712</td>\n",
       "      <td>135</td>\n",
       "      <td>199634</td>\n",
       "      <td>3.0</td>\n",
       "      <td>496</td>\n",
       "    </tr>\n",
       "    <tr>\n",
       "      <th>51</th>\n",
       "      <td>627</td>\n",
       "      <td>78</td>\n",
       "      <td>100536</td>\n",
       "      <td>3.0</td>\n",
       "      <td>07054</td>\n",
       "    </tr>\n",
       "    <tr>\n",
       "      <th>62</th>\n",
       "      <td>698</td>\n",
       "      <td>87</td>\n",
       "      <td>190659</td>\n",
       "      <td>5.0</td>\n",
       "      <td>7707</td>\n",
       "    </tr>\n",
       "    <tr>\n",
       "      <th>87</th>\n",
       "      <td>25</td>\n",
       "      <td>6</td>\n",
       "      <td>107064</td>\n",
       "      <td>1.0</td>\n",
       "      <td>40391</td>\n",
       "    </tr>\n",
       "    <tr>\n",
       "      <th>...</th>\n",
       "      <td>...</td>\n",
       "      <td>...</td>\n",
       "      <td>...</td>\n",
       "      <td>...</td>\n",
       "      <td>...</td>\n",
       "    </tr>\n",
       "    <tr>\n",
       "      <th>140459</th>\n",
       "      <td>637067</td>\n",
       "      <td>96908</td>\n",
       "      <td>138027</td>\n",
       "      <td>12.0</td>\n",
       "      <td>28521</td>\n",
       "    </tr>\n",
       "    <tr>\n",
       "      <th>140465</th>\n",
       "      <td>637073</td>\n",
       "      <td>96908</td>\n",
       "      <td>149629</td>\n",
       "      <td>2.0</td>\n",
       "      <td>42833</td>\n",
       "    </tr>\n",
       "    <tr>\n",
       "      <th>140466</th>\n",
       "      <td>637074</td>\n",
       "      <td>96908</td>\n",
       "      <td>149629</td>\n",
       "      <td>3.0</td>\n",
       "      <td>40391</td>\n",
       "    </tr>\n",
       "    <tr>\n",
       "      <th>140469</th>\n",
       "      <td>637077</td>\n",
       "      <td>96908</td>\n",
       "      <td>149629</td>\n",
       "      <td>6.0</td>\n",
       "      <td>5855</td>\n",
       "    </tr>\n",
       "    <tr>\n",
       "      <th>140500</th>\n",
       "      <td>639737</td>\n",
       "      <td>97476</td>\n",
       "      <td>189690</td>\n",
       "      <td>6.0</td>\n",
       "      <td>33829</td>\n",
       "    </tr>\n",
       "  </tbody>\n",
       "</table>\n",
       "<p>8567 rows × 5 columns</p>\n",
       "</div>"
      ],
      "text/plain": [
       "        ROW_ID  SUBJECT_ID  HADM_ID  SEQ_NUM ICD9_CODE\n",
       "33        1630         125   157348      4.0      4168\n",
       "42        1712         135   199634      3.0       496\n",
       "51         627          78   100536      3.0     07054\n",
       "62         698          87   190659      5.0      7707\n",
       "87          25           6   107064      1.0     40391\n",
       "...        ...         ...      ...      ...       ...\n",
       "140459  637067       96908   138027     12.0     28521\n",
       "140465  637073       96908   149629      2.0     42833\n",
       "140466  637074       96908   149629      3.0     40391\n",
       "140469  637077       96908   149629      6.0      5855\n",
       "140500  639737       97476   189690      6.0     33829\n",
       "\n",
       "[8567 rows x 5 columns]"
      ]
     },
     "execution_count": 21,
     "metadata": {},
     "output_type": "execute_result"
    }
   ],
   "source": [
    "chronic_diagnosis = diagnosis_icd[diagnosis_icd[\"ICD9_CODE\"].isin(chronic_icd9_codes)]\n",
    "chronic_diagnosis"
   ]
  },
  {
   "cell_type": "markdown",
   "id": "7584203f",
   "metadata": {
    "papermill": {
     "duration": 0.015048,
     "end_time": "2024-06-30T14:47:13.725513",
     "exception": false,
     "start_time": "2024-06-30T14:47:13.710465",
     "status": "completed"
    },
    "tags": []
   },
   "source": [
    "##### 2.2.4 Filter Top 5 diagnosis and count"
   ]
  },
  {
   "cell_type": "code",
   "execution_count": 22,
   "id": "04c01cbe",
   "metadata": {
    "execution": {
     "iopub.execute_input": "2024-06-30T14:47:13.759195Z",
     "iopub.status.busy": "2024-06-30T14:47:13.758302Z",
     "iopub.status.idle": "2024-06-30T14:47:13.767956Z",
     "shell.execute_reply": "2024-06-30T14:47:13.766866Z"
    },
    "papermill": {
     "duration": 0.028832,
     "end_time": "2024-06-30T14:47:13.770099",
     "exception": false,
     "start_time": "2024-06-30T14:47:13.741267",
     "status": "completed"
    },
    "tags": []
   },
   "outputs": [
    {
     "data": {
      "text/plain": [
       "ICD9_CODE\n",
       "496      981\n",
       "40390    713\n",
       "5859     712\n",
       "40391    609\n",
       "4168     453\n",
       "Name: SUBJECT_ID, dtype: int64"
      ]
     },
     "execution_count": 22,
     "metadata": {},
     "output_type": "execute_result"
    }
   ],
   "source": [
    "\n",
    "chronic_diagnosis_count = chronic_diagnosis.groupby(\"ICD9_CODE\")[\"SUBJECT_ID\"].count().sort_values(ascending=False).head(5)\n",
    "chronic_diagnosis_count"
   ]
  },
  {
   "cell_type": "markdown",
   "id": "218561c3",
   "metadata": {
    "papermill": {
     "duration": 0.015277,
     "end_time": "2024-06-30T14:47:13.801143",
     "exception": false,
     "start_time": "2024-06-30T14:47:13.785866",
     "status": "completed"
    },
    "tags": []
   },
   "source": [
    "##### 2.2.5 Combine Count and Title"
   ]
  },
  {
   "cell_type": "code",
   "execution_count": 23,
   "id": "2c550ef5",
   "metadata": {
    "execution": {
     "iopub.execute_input": "2024-06-30T14:47:13.833824Z",
     "iopub.status.busy": "2024-06-30T14:47:13.833460Z",
     "iopub.status.idle": "2024-06-30T14:47:13.857668Z",
     "shell.execute_reply": "2024-06-30T14:47:13.856714Z"
    },
    "papermill": {
     "duration": 0.04319,
     "end_time": "2024-06-30T14:47:13.859943",
     "exception": false,
     "start_time": "2024-06-30T14:47:13.816753",
     "status": "completed"
    },
    "tags": []
   },
   "outputs": [
    {
     "data": {
      "text/html": [
       "<div>\n",
       "<style scoped>\n",
       "    .dataframe tbody tr th:only-of-type {\n",
       "        vertical-align: middle;\n",
       "    }\n",
       "\n",
       "    .dataframe tbody tr th {\n",
       "        vertical-align: top;\n",
       "    }\n",
       "\n",
       "    .dataframe thead th {\n",
       "        text-align: right;\n",
       "    }\n",
       "</style>\n",
       "<table border=\"1\" class=\"dataframe\">\n",
       "  <thead>\n",
       "    <tr style=\"text-align: right;\">\n",
       "      <th></th>\n",
       "      <th>ROW_ID</th>\n",
       "      <th>ICD9_CODE</th>\n",
       "      <th>SHORT_TITLE</th>\n",
       "      <th>LONG_TITLE</th>\n",
       "      <th>SUBJECT_ID</th>\n",
       "    </tr>\n",
       "  </thead>\n",
       "  <tbody>\n",
       "    <tr>\n",
       "      <th>5394</th>\n",
       "      <td>5123</td>\n",
       "      <td>496</td>\n",
       "      <td>Chr airway obstruct NEC</td>\n",
       "      <td>Chronic airway obstruction, not elsewhere clas...</td>\n",
       "      <td>981.0</td>\n",
       "    </tr>\n",
       "    <tr>\n",
       "      <th>4314</th>\n",
       "      <td>4315</td>\n",
       "      <td>40390</td>\n",
       "      <td>Hy kid NOS w cr kid I-IV</td>\n",
       "      <td>Hypertensive chronic kidney disease, unspecifi...</td>\n",
       "      <td>713.0</td>\n",
       "    </tr>\n",
       "    <tr>\n",
       "      <th>5913</th>\n",
       "      <td>5915</td>\n",
       "      <td>5859</td>\n",
       "      <td>Chronic kidney dis NOS</td>\n",
       "      <td>Chronic kidney disease, unspecified</td>\n",
       "      <td>712.0</td>\n",
       "    </tr>\n",
       "    <tr>\n",
       "      <th>4315</th>\n",
       "      <td>4316</td>\n",
       "      <td>40391</td>\n",
       "      <td>Hyp kid NOS w cr kid V</td>\n",
       "      <td>Hypertensive chronic kidney disease, unspecifi...</td>\n",
       "      <td>609.0</td>\n",
       "    </tr>\n",
       "    <tr>\n",
       "      <th>4397</th>\n",
       "      <td>4398</td>\n",
       "      <td>4168</td>\n",
       "      <td>Chr pulmon heart dis NEC</td>\n",
       "      <td>Other chronic pulmonary heart diseases</td>\n",
       "      <td>453.0</td>\n",
       "    </tr>\n",
       "  </tbody>\n",
       "</table>\n",
       "</div>"
      ],
      "text/plain": [
       "      ROW_ID ICD9_CODE               SHORT_TITLE  \\\n",
       "5394    5123       496   Chr airway obstruct NEC   \n",
       "4314    4315     40390  Hy kid NOS w cr kid I-IV   \n",
       "5913    5915      5859    Chronic kidney dis NOS   \n",
       "4315    4316     40391    Hyp kid NOS w cr kid V   \n",
       "4397    4398      4168  Chr pulmon heart dis NEC   \n",
       "\n",
       "                                             LONG_TITLE  SUBJECT_ID  \n",
       "5394  Chronic airway obstruction, not elsewhere clas...       981.0  \n",
       "4314  Hypertensive chronic kidney disease, unspecifi...       713.0  \n",
       "5913                Chronic kidney disease, unspecified       712.0  \n",
       "4315  Hypertensive chronic kidney disease, unspecifi...       609.0  \n",
       "4397             Other chronic pulmonary heart diseases       453.0  "
      ]
     },
     "execution_count": 23,
     "metadata": {},
     "output_type": "execute_result"
    }
   ],
   "source": [
    "# d_icd_diagnosis[d_icd_diagnosis.ICD9_CODE.isin(chronic_diagnosis_count.index.to_list())].reset_index(drop=True)\n",
    "chronic_diagnosis_and_count = d_icd_diagnosis.join(chronic_diagnosis_count,  on=\"ICD9_CODE\").sort_values(\"SUBJECT_ID\", ascending=False).head(5)\n",
    "chronic_diagnosis_and_count"
   ]
  },
  {
   "cell_type": "markdown",
   "id": "75882bcf",
   "metadata": {
    "papermill": {
     "duration": 0.015504,
     "end_time": "2024-06-30T14:47:13.891257",
     "exception": false,
     "start_time": "2024-06-30T14:47:13.875753",
     "status": "completed"
    },
    "tags": []
   },
   "source": [
    "##### 2.2.6 Show Counts"
   ]
  },
  {
   "cell_type": "code",
   "execution_count": 24,
   "id": "00befcd1",
   "metadata": {
    "execution": {
     "iopub.execute_input": "2024-06-30T14:47:13.924124Z",
     "iopub.status.busy": "2024-06-30T14:47:13.923728Z",
     "iopub.status.idle": "2024-06-30T14:47:14.246204Z",
     "shell.execute_reply": "2024-06-30T14:47:14.245150Z"
    },
    "papermill": {
     "duration": 0.341752,
     "end_time": "2024-06-30T14:47:14.248643",
     "exception": false,
     "start_time": "2024-06-30T14:47:13.906891",
     "status": "completed"
    },
    "tags": []
   },
   "outputs": [
    {
     "data": {
      "text/plain": [
       "<Figure size 1000x600 with 0 Axes>"
      ]
     },
     "metadata": {},
     "output_type": "display_data"
    },
    {
     "data": {
      "image/png": "[encoded data removed]",
      "text/plain": [
       "<Figure size 640x480 with 1 Axes>"
      ]
     },
     "metadata": {},
     "output_type": "display_data"
    }
   ],
   "source": [
    "plt.figure(figsize=(10, 6))\n",
    "chronic_diagnosis_and_count[[\"SHORT_TITLE\", \"SUBJECT_ID\"]].set_index(\"SHORT_TITLE\").plot(kind='bar', color='orange')\n",
    "plt.title('Top 5 Chronic Dieases')\n",
    "plt.xlabel('Names')\n",
    "plt.ylabel('Number of Patients')\n",
    "plt.xticks(rotation=45)\n",
    "\n",
    "# Show the plot\n",
    "plt.tight_layout()\n",
    "plt.show()"
   ]
  },
  {
   "cell_type": "markdown",
   "id": "8684c8b5",
   "metadata": {
    "papermill": {
     "duration": 0.016015,
     "end_time": "2024-06-30T14:47:14.281092",
     "exception": false,
     "start_time": "2024-06-30T14:47:14.265077",
     "status": "completed"
    },
    "tags": []
   },
   "source": [
    "#### 2.3 What are the top 5 acute diseases and their count?"
   ]
  },
  {
   "cell_type": "code",
   "execution_count": 25,
   "id": "210aafe8",
   "metadata": {
    "execution": {
     "iopub.execute_input": "2024-06-30T14:47:14.316236Z",
     "iopub.status.busy": "2024-06-30T14:47:14.315479Z",
     "iopub.status.idle": "2024-06-30T14:47:14.822915Z",
     "shell.execute_reply": "2024-06-30T14:47:14.821805Z"
    },
    "papermill": {
     "duration": 0.527845,
     "end_time": "2024-06-30T14:47:14.825400",
     "exception": false,
     "start_time": "2024-06-30T14:47:14.297555",
     "status": "completed"
    },
    "tags": []
   },
   "outputs": [
    {
     "data": {
      "text/plain": [
       "<Figure size 1000x600 with 0 Axes>"
      ]
     },
     "metadata": {},
     "output_type": "display_data"
    },
    {
     "data": {
      "image/png": "[encoded data removed]",
      "text/plain": [
       "<Figure size 640x480 with 1 Axes>"
      ]
     },
     "metadata": {},
     "output_type": "display_data"
    }
   ],
   "source": [
    "## Read Relevant Tables\n",
    "d_icd_diagnosis = pd.read_csv(os.path.join(base_path,\"D_ICD_DIAGNOSES/D_ICD_DIAGNOSES.csv\"))\n",
    "diagnosis_icd = pd.read_csv(os.path.join(base_path,\"DIAGNOSES_ICD/DIAGNOSES_ICD_random.csv\"))\n",
    "\n",
    "\n",
    "## Identify icd9 codes with acute in short title or long title\n",
    "acute_icd9_codes = d_icd_diagnosis[(d_icd_diagnosis['SHORT_TITLE'].str.lower().str.contains(\"acute\")) | (d_icd_diagnosis['LONG_TITLE'].str.lower().str.contains(\"acute\"))]['ICD9_CODE'].unique()\n",
    "\n",
    "## Identify the relevant diagnosis\n",
    "acute_diagnosis = diagnosis_icd[diagnosis_icd[\"ICD9_CODE\"].isin(acute_icd9_codes)]\n",
    "\n",
    "## Find top 5 diseases and their count\n",
    "acute_diagnosis_count = acute_diagnosis.groupby(\"ICD9_CODE\")[\"SUBJECT_ID\"].count().sort_values(ascending=False).head(5)\n",
    "acute_diagnosis_count = d_icd_diagnosis.join(acute_diagnosis_count,  on=\"ICD9_CODE\").sort_values(\"SUBJECT_ID\", ascending=False).head(5)\n",
    "\n",
    "\n",
    "plt.figure(figsize=(10, 6))\n",
    "acute_diagnosis_count[[\"SHORT_TITLE\", \"SUBJECT_ID\"]].set_index(\"SHORT_TITLE\").plot(kind='bar', color='green')\n",
    "plt.title('Top 5 Acute Dieases')\n",
    "plt.xlabel('Names')\n",
    "plt.ylabel('Number of Patients')\n",
    "plt.xticks(rotation=45)\n",
    "\n",
    "# Show the plot\n",
    "plt.tight_layout()\n",
    "\n",
    "plt.show()"
   ]
  },
  {
   "cell_type": "code",
   "execution_count": null,
   "id": "0f6f1e7a",
   "metadata": {
    "papermill": {
     "duration": 0.01691,
     "end_time": "2024-06-30T14:47:14.859746",
     "exception": false,
     "start_time": "2024-06-30T14:47:14.842836",
     "status": "completed"
    },
    "tags": []
   },
   "outputs": [],
   "source": []
  },
  {
   "cell_type": "markdown",
   "id": "7ad46576",
   "metadata": {
    "papermill": {
     "duration": 0.017054,
     "end_time": "2024-06-30T14:47:14.894067",
     "exception": false,
     "start_time": "2024-06-30T14:47:14.877013",
     "status": "completed"
    },
    "tags": []
   },
   "source": [
    "## Assignment\n",
    "\n",
    "\n",
    "### 1. How many patients are suffering from diabetes? \n",
    "### 2. How many patients are taking metformin?\n",
    "### 3. How many patients are prescribed with Insulin?\n",
    "### 4. How many implant procedures were performed? (Use keyword: implant)\n",
    "### 5. Show me patients with abnormal PH value?"
   ]
  },
  {
   "cell_type": "code",
   "execution_count": 26,
   "id": "1ef4a6d9",
   "metadata": {
    "execution": {
     "iopub.execute_input": "2024-06-30T14:47:14.930335Z",
     "iopub.status.busy": "2024-06-30T14:47:14.929943Z",
     "iopub.status.idle": "2024-06-30T14:47:14.934535Z",
     "shell.execute_reply": "2024-06-30T14:47:14.933437Z"
    },
    "papermill": {
     "duration": 0.025308,
     "end_time": "2024-06-30T14:47:14.936737",
     "exception": false,
     "start_time": "2024-06-30T14:47:14.911429",
     "status": "completed"
    },
    "tags": []
   },
   "outputs": [],
   "source": [
    "### 1. How many patients are suffering from diabetes? \n"
   ]
  },
  {
   "cell_type": "code",
   "execution_count": 27,
   "id": "9dbeb9d7",
   "metadata": {
    "execution": {
     "iopub.execute_input": "2024-06-30T14:47:14.973815Z",
     "iopub.status.busy": "2024-06-30T14:47:14.973431Z",
     "iopub.status.idle": "2024-06-30T14:47:14.978050Z",
     "shell.execute_reply": "2024-06-30T14:47:14.977011Z"
    },
    "papermill": {
     "duration": 0.025363,
     "end_time": "2024-06-30T14:47:14.980176",
     "exception": false,
     "start_time": "2024-06-30T14:47:14.954813",
     "status": "completed"
    },
    "tags": []
   },
   "outputs": [],
   "source": [
    "### 2. How many patients are taking metformin?\n"
   ]
  },
  {
   "cell_type": "code",
   "execution_count": 28,
   "id": "7d852143",
   "metadata": {
    "execution": {
     "iopub.execute_input": "2024-06-30T14:47:15.016702Z",
     "iopub.status.busy": "2024-06-30T14:47:15.016351Z",
     "iopub.status.idle": "2024-06-30T14:47:15.020480Z",
     "shell.execute_reply": "2024-06-30T14:47:15.019536Z"
    },
    "papermill": {
     "duration": 0.024658,
     "end_time": "2024-06-30T14:47:15.022409",
     "exception": false,
     "start_time": "2024-06-30T14:47:14.997751",
     "status": "completed"
    },
    "tags": []
   },
   "outputs": [],
   "source": [
    "### 3. How many patients are prescribed with Insulin?\n"
   ]
  },
  {
   "cell_type": "code",
   "execution_count": 29,
   "id": "c082cb9b",
   "metadata": {
    "execution": {
     "iopub.execute_input": "2024-06-30T14:47:15.059726Z",
     "iopub.status.busy": "2024-06-30T14:47:15.058842Z",
     "iopub.status.idle": "2024-06-30T14:47:15.063187Z",
     "shell.execute_reply": "2024-06-30T14:47:15.062212Z"
    },
    "papermill": {
     "duration": 0.025057,
     "end_time": "2024-06-30T14:47:15.065135",
     "exception": false,
     "start_time": "2024-06-30T14:47:15.040078",
     "status": "completed"
    },
    "tags": []
   },
   "outputs": [],
   "source": [
    "### 4. How many implant procedures were performed? (Use keyword: implant)\n"
   ]
  },
  {
   "cell_type": "code",
   "execution_count": 30,
   "id": "73cc60f2",
   "metadata": {
    "execution": {
     "iopub.execute_input": "2024-06-30T14:47:15.102515Z",
     "iopub.status.busy": "2024-06-30T14:47:15.101631Z",
     "iopub.status.idle": "2024-06-30T14:47:23.171435Z",
     "shell.execute_reply": "2024-06-30T14:47:23.170216Z"
    },
    "papermill": {
     "duration": 8.090875,
     "end_time": "2024-06-30T14:47:23.173773",
     "exception": false,
     "start_time": "2024-06-30T14:47:15.082898",
     "status": "completed"
    },
    "tags": []
   },
   "outputs": [
    {
     "data": {
      "text/html": [
       "<div>\n",
       "<style scoped>\n",
       "    .dataframe tbody tr th:only-of-type {\n",
       "        vertical-align: middle;\n",
       "    }\n",
       "\n",
       "    .dataframe tbody tr th {\n",
       "        vertical-align: top;\n",
       "    }\n",
       "\n",
       "    .dataframe thead th {\n",
       "        text-align: right;\n",
       "    }\n",
       "</style>\n",
       "<table border=\"1\" class=\"dataframe\">\n",
       "  <thead>\n",
       "    <tr style=\"text-align: right;\">\n",
       "      <th></th>\n",
       "      <th>SUBJECT_ID</th>\n",
       "      <th>ROW_ID</th>\n",
       "      <th>HADM_ID</th>\n",
       "      <th>ITEMID</th>\n",
       "      <th>CHARTTIME</th>\n",
       "      <th>VALUE</th>\n",
       "      <th>VALUENUM</th>\n",
       "      <th>VALUEUOM</th>\n",
       "      <th>FLAG</th>\n",
       "    </tr>\n",
       "  </thead>\n",
       "  <tbody>\n",
       "    <tr>\n",
       "      <th>0</th>\n",
       "      <td>6</td>\n",
       "      <td>3512</td>\n",
       "      <td>107064.0</td>\n",
       "      <td>50820</td>\n",
       "      <td>2175-05-30 13:12:00</td>\n",
       "      <td>7.25</td>\n",
       "      <td>7.25</td>\n",
       "      <td>units</td>\n",
       "      <td>abnormal</td>\n",
       "    </tr>\n",
       "    <tr>\n",
       "      <th>1</th>\n",
       "      <td>13</td>\n",
       "      <td>6999</td>\n",
       "      <td>143045.0</td>\n",
       "      <td>50820</td>\n",
       "      <td>2167-01-09 22:05:00</td>\n",
       "      <td>7.33</td>\n",
       "      <td>7.33</td>\n",
       "      <td>units</td>\n",
       "      <td>abnormal</td>\n",
       "    </tr>\n",
       "    <tr>\n",
       "      <th>2</th>\n",
       "      <td>35</td>\n",
       "      <td>14073</td>\n",
       "      <td>166707.0</td>\n",
       "      <td>50820</td>\n",
       "      <td>2122-02-11 03:13:00</td>\n",
       "      <td>7.31</td>\n",
       "      <td>7.31</td>\n",
       "      <td>units</td>\n",
       "      <td>abnormal</td>\n",
       "    </tr>\n",
       "    <tr>\n",
       "      <th>3</th>\n",
       "      <td>71</td>\n",
       "      <td>34733</td>\n",
       "      <td>111944.0</td>\n",
       "      <td>50820</td>\n",
       "      <td>2164-02-03 21:07:00</td>\n",
       "      <td>7.33</td>\n",
       "      <td>7.33</td>\n",
       "      <td>units</td>\n",
       "      <td>abnormal</td>\n",
       "    </tr>\n",
       "    <tr>\n",
       "      <th>4</th>\n",
       "      <td>103</td>\n",
       "      <td>47476</td>\n",
       "      <td>130744.0</td>\n",
       "      <td>50820</td>\n",
       "      <td>2144-08-14 10:44:00</td>\n",
       "      <td>7.50</td>\n",
       "      <td>7.50</td>\n",
       "      <td>units</td>\n",
       "      <td>abnormal</td>\n",
       "    </tr>\n",
       "    <tr>\n",
       "      <th>...</th>\n",
       "      <td>...</td>\n",
       "      <td>...</td>\n",
       "      <td>...</td>\n",
       "      <td>...</td>\n",
       "      <td>...</td>\n",
       "      <td>...</td>\n",
       "      <td>...</td>\n",
       "      <td>...</td>\n",
       "      <td>...</td>\n",
       "    </tr>\n",
       "    <tr>\n",
       "      <th>5063</th>\n",
       "      <td>99783</td>\n",
       "      <td>27878499</td>\n",
       "      <td>126090.0</td>\n",
       "      <td>50820</td>\n",
       "      <td>2125-12-04 01:37:00</td>\n",
       "      <td>7.24</td>\n",
       "      <td>7.24</td>\n",
       "      <td>units</td>\n",
       "      <td>abnormal</td>\n",
       "    </tr>\n",
       "    <tr>\n",
       "      <th>5064</th>\n",
       "      <td>99847</td>\n",
       "      <td>27891324</td>\n",
       "      <td>155024.0</td>\n",
       "      <td>50820</td>\n",
       "      <td>2191-04-13 02:20:00</td>\n",
       "      <td>7.46</td>\n",
       "      <td>7.46</td>\n",
       "      <td>units</td>\n",
       "      <td>abnormal</td>\n",
       "    </tr>\n",
       "    <tr>\n",
       "      <th>5065</th>\n",
       "      <td>99863</td>\n",
       "      <td>27892804</td>\n",
       "      <td>100749.0</td>\n",
       "      <td>50820</td>\n",
       "      <td>2142-04-13 10:57:00</td>\n",
       "      <td>7.47</td>\n",
       "      <td>7.47</td>\n",
       "      <td>units</td>\n",
       "      <td>abnormal</td>\n",
       "    </tr>\n",
       "    <tr>\n",
       "      <th>5066</th>\n",
       "      <td>99881</td>\n",
       "      <td>27896106</td>\n",
       "      <td>172327.0</td>\n",
       "      <td>50820</td>\n",
       "      <td>2174-01-22 03:20:00</td>\n",
       "      <td>7.05</td>\n",
       "      <td>7.05</td>\n",
       "      <td>units</td>\n",
       "      <td>abnormal</td>\n",
       "    </tr>\n",
       "    <tr>\n",
       "      <th>5067</th>\n",
       "      <td>99923</td>\n",
       "      <td>27900351</td>\n",
       "      <td>192053.0</td>\n",
       "      <td>50820</td>\n",
       "      <td>2201-05-16 13:01:00</td>\n",
       "      <td>7.47</td>\n",
       "      <td>7.47</td>\n",
       "      <td>units</td>\n",
       "      <td>abnormal</td>\n",
       "    </tr>\n",
       "  </tbody>\n",
       "</table>\n",
       "<p>5068 rows × 9 columns</p>\n",
       "</div>"
      ],
      "text/plain": [
       "      SUBJECT_ID    ROW_ID   HADM_ID  ITEMID            CHARTTIME VALUE  \\\n",
       "0              6      3512  107064.0   50820  2175-05-30 13:12:00  7.25   \n",
       "1             13      6999  143045.0   50820  2167-01-09 22:05:00  7.33   \n",
       "2             35     14073  166707.0   50820  2122-02-11 03:13:00  7.31   \n",
       "3             71     34733  111944.0   50820  2164-02-03 21:07:00  7.33   \n",
       "4            103     47476  130744.0   50820  2144-08-14 10:44:00  7.50   \n",
       "...          ...       ...       ...     ...                  ...   ...   \n",
       "5063       99783  27878499  126090.0   50820  2125-12-04 01:37:00  7.24   \n",
       "5064       99847  27891324  155024.0   50820  2191-04-13 02:20:00  7.46   \n",
       "5065       99863  27892804  100749.0   50820  2142-04-13 10:57:00  7.47   \n",
       "5066       99881  27896106  172327.0   50820  2174-01-22 03:20:00  7.05   \n",
       "5067       99923  27900351  192053.0   50820  2201-05-16 13:01:00  7.47   \n",
       "\n",
       "      VALUENUM VALUEUOM      FLAG  \n",
       "0         7.25    units  abnormal  \n",
       "1         7.33    units  abnormal  \n",
       "2         7.31    units  abnormal  \n",
       "3         7.33    units  abnormal  \n",
       "4         7.50    units  abnormal  \n",
       "...        ...      ...       ...  \n",
       "5063      7.24    units  abnormal  \n",
       "5064      7.46    units  abnormal  \n",
       "5065      7.47    units  abnormal  \n",
       "5066      7.05    units  abnormal  \n",
       "5067      7.47    units  abnormal  \n",
       "\n",
       "[5068 rows x 9 columns]"
      ]
     },
     "execution_count": 30,
     "metadata": {},
     "output_type": "execute_result"
    }
   ],
   "source": [
    "### 5. Show me patients with abnormal PH value?\n",
    "d_labitems = pd.read_csv(os.path.join(base_path,\"D_LABITEMS/D_LABITEMS.csv\"))\n",
    "#print(d_labitems.head(5))\n",
    "labevents = pd.read_csv(os.path.join(base_path,\"LABEVENTS/LABEVENTS_random.csv\"))\n",
    "#labevents.head(5)\n",
    "# Step 1\n",
    "item_ids = d_labitems[(d_labitems['LABEL'].str.lower() == 'ph') & (d_labitems['FLUID'].str.lower() == 'blood')]['ITEMID'].unique()\n",
    "d_labitems[d_labitems.ITEMID.isin(item_ids)]\n",
    "# Step 2: Filter lab events to keep only records with the identified ITEMID(s)\n",
    "bg_events = labevents[labevents['ITEMID'].isin(item_ids)]\n",
    "bg_events\n",
    "bg_events = bg_events[bg_events[\"FLAG\"] == \"abnormal\"]\n",
    "bg_events\n",
    "bg_events.groupby('SUBJECT_ID').first().reset_index()"
   ]
  }
 ],
 "metadata": {
  "kaggle": {
   "accelerator": "none",
   "dataSources": [
    {
     "datasetId": 5307640,
     "sourceId": 8822488,
     "sourceType": "datasetVersion"
    }
   ],
   "dockerImageVersionId": 30732,
   "isGpuEnabled": false,
   "isInternetEnabled": true,
   "language": "python",
   "sourceType": "notebook"
  },
  "kernelspec": {
   "display_name": "Python 3",
   "language": "python",
   "name": "python3"
  },
  "language_info": {
   "codemirror_mode": {
    "name": "ipython",
    "version": 3
   },
   "file_extension": ".py",
   "mimetype": "text/x-python",
   "name": "python",
   "nbconvert_exporter": "python",
   "pygments_lexer": "ipython3",
   "version": "3.10.13"
  },
  "papermill": {
   "default_parameters": {},
   "duration": 27.411791,
   "end_time": "2024-06-30T14:47:23.913735",
   "environment_variables": {},
   "exception": null,
   "input_path": "__notebook__.ipynb",
   "output_path": "__notebook__.ipynb",
   "parameters": {},
   "start_time": "2024-06-30T14:46:56.501944",
   "version": "2.5.0"
  }
 },
 "nbformat": 4,
 "nbformat_minor": 5
}
